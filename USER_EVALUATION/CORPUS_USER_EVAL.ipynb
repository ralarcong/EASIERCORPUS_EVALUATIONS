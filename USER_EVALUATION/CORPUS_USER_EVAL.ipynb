{
 "cells": [
  {
   "cell_type": "markdown",
   "metadata": {},
   "source": [
    "# CWI DATASET EVALUATIONS"
   ]
  },
  {
   "cell_type": "markdown",
   "metadata": {},
   "source": [
    "## 1. LOADING DATA"
   ]
  },
  {
   "cell_type": "code",
   "execution_count": 1,
   "metadata": {},
   "outputs": [],
   "source": [
    "from sklearn.metrics import classification_report\n",
    "import csv\n",
    "import spacy\n",
    "import numpy as np\n",
    "nlp=spacy.load('es_core_news_md')\n",
    "pathgold_task1='GOLD/GOLD_CWI.csv'\n",
    "pathgold_task2='GOLD/GOLD_SUBS.csv'\n",
    "pathdemograph='CORPUS_DEMOGRAPH_EVAL.csv'\n",
    "pathtask1='CORPUS_CWI_EVAL.csv'\n",
    "pathtask2='CORPUS_SUBS_EVAL.csv'"
   ]
  },
  {
   "cell_type": "code",
   "execution_count": 2,
   "metadata": {},
   "outputs": [],
   "source": [
    "def procesartasks(path):\n",
    "    tsvin = open(path, \"rt\")\n",
    "    tsvin = csv.reader(tsvin, delimiter=';')\n",
    "    listatask1=list()\n",
    "    for row in tsvin:\n",
    "        listatemp=list()\n",
    "        for element in row:\n",
    "            if element != '':\n",
    "                listatemp.append(element)\n",
    "        listatask1.append(listatemp)\n",
    "                \n",
    "    return listatask1 "
   ]
  },
  {
   "cell_type": "code",
   "execution_count": 3,
   "metadata": {},
   "outputs": [],
   "source": [
    "demographic=procesartasks(pathdemograph)\n",
    "listatask1=procesartasks(pathtask1)\n",
    "listagoldtask1=procesartasks(pathgold_task1)"
   ]
  },
  {
   "cell_type": "code",
   "execution_count": 4,
   "metadata": {},
   "outputs": [
    {
     "data": {
      "text/plain": [
       "[['1', '1', '65', '3', '1', '0'],\n",
       " ['2', '1', '70', '1', '2', '0'],\n",
       " ['3', '0', '70', '2', '1', '0'],\n",
       " ['4', '0', '55', '3', '1', '2'],\n",
       " ['5', '0', '20', '2', '0', '2'],\n",
       " ['6', '1', '81', '0', '4', '2'],\n",
       " ['7', '1', '53', '3', '2', '2'],\n",
       " ['8', '1', '65', '3', '3', '0'],\n",
       " ['9', '1', '69', '3', '1', '0'],\n",
       " ['10', '0', '66', '3', '1', '0'],\n",
       " ['11', '1', '18', '2', '2', '2'],\n",
       " ['12', '1', '70', '2', '0', '1'],\n",
       " ['13', '0', '71', '2', '0', '0'],\n",
       " ['14', '0', '76', '1', '0', '0'],\n",
       " ['15', '1', '76', '0', '0', '0'],\n",
       " ['16', '1', '70', '1', '2', '0'],\n",
       " ['17', '0', '74', '2', '3', '0'],\n",
       " ['18', '0', '66', '2', '1', '0'],\n",
       " ['19', '1', '67', '2', '2', '0'],\n",
       " ['20', '1', '65', '2', '2', '0'],\n",
       " ['21', '0', '70', '1', '3', '0'],\n",
       " ['22', '0', '72', '2', '1', '0'],\n",
       " ['23', '1', '72', '2', '1', '0'],\n",
       " ['24', '1', '68', '2', '1', '0'],\n",
       " ['25', '0', '74', '1', '1', '0'],\n",
       " ['26', '1', '69', '2', '3', '0'],\n",
       " ['27', '0', '49', '1', '0', '1'],\n",
       " ['28', '1', '39', '1', '1', '1'],\n",
       " ['29', '1', '43', '1', '1', '1'],\n",
       " ['30', '0', '33', '2', '3', '1'],\n",
       " ['31', '1', '31', '1', '0', '1'],\n",
       " ['32', '0', '48', '1', '0', '1'],\n",
       " ['33', '0', '27', '2', '3', '1'],\n",
       " ['34', '1', '30', '2', '0', '1'],\n",
       " ['35', '1', '24', '1', '1', '1'],\n",
       " ['36', '0', '42', '2', '0', '1'],\n",
       " ['37', '1', '42', '1', '0', '1'],\n",
       " ['38', '1', '47', '0', '0', '1'],\n",
       " ['39', '1', '44', '2', '2', '1'],\n",
       " ['40', '0', '38', '2', '1', '1'],\n",
       " ['41', '0', '29', '0', '0', '1'],\n",
       " ['42', '1', '75', '2', '1', '0'],\n",
       " ['43', '1', '29', '3', '0', '2'],\n",
       " ['44', '0', '32', '3', '1', '2'],\n",
       " ['45', '1', '29', '2', '1', '2'],\n",
       " ['46', '0', '33', '3', '1', '2'],\n",
       " ['47', '1', '21', '2', '1', '2'],\n",
       " ['48', '0', '43', '3', '1', '2'],\n",
       " ['49', '0', '39', '3', '2', '2'],\n",
       " ['50', '1', '42', '3', '3', '2'],\n",
       " ['51', '0', '36', '3', '2', '2'],\n",
       " ['52', '0', '43', '3', '0', '2'],\n",
       " ['53', '0', '43', '3', '4', '2']]"
      ]
     },
     "execution_count": 4,
     "metadata": {},
     "output_type": "execute_result"
    }
   ],
   "source": [
    "#0=older, 1=intelectual dis, 2=control\n",
    "demographic"
   ]
  },
  {
   "cell_type": "code",
   "execution_count": 5,
   "metadata": {},
   "outputs": [],
   "source": [
    "listausuarios=list()\n",
    "listausuariosmay=list()\n",
    "listausuariosdic=list()\n",
    "listausuariosctr=list()\n",
    "for row in demographic:\n",
    "    listausuarios.append([row[0],row[5]])\n",
    "    if row[5]=='0':\n",
    "        listausuariosmay.append(row[0])\n",
    "    if row[5]=='1':\n",
    "        listausuariosdic.append(row[0])\n",
    "    if row[5]=='2':\n",
    "        listausuariosctr.append(row[0])"
   ]
  },
  {
   "cell_type": "code",
   "execution_count": 6,
   "metadata": {},
   "outputs": [],
   "source": [
    "dicmay=dict()\n",
    "dicdisc=dict()\n",
    "dicctr=dict()\n",
    "for row in listatask1:   \n",
    "    if row[0] in listausuariosmay:\n",
    "        dicmay[row[0]]=0\n",
    "    if row[0] in listausuariosdic:\n",
    "        dicdisc[row[0]]=0\n",
    "    if row[0] in listausuariosctr:\n",
    "        dicctr[row[0]]=0\n",
    "        "
   ]
  },
  {
   "cell_type": "code",
   "execution_count": 7,
   "metadata": {},
   "outputs": [],
   "source": [
    "nlistausuariosmay=list()\n",
    "nlistausuariosdic=list()\n",
    "nlistausuariosctr=list()\n",
    "nlistausuariosmay=dicmay.keys()\n",
    "nlistausuariosdic=dicdisc.keys()\n",
    "nlistausuariosctr=dicctr.keys()"
   ]
  },
  {
   "cell_type": "code",
   "execution_count": 8,
   "metadata": {},
   "outputs": [],
   "source": [
    "def showpostags(path):\n",
    "    cont=0\n",
    "    for row in path:\n",
    "        sentence = row[0]  # oracion\n",
    "        spacyoracion=nlp(sentence)\n",
    "        for j,token in enumerate(spacyoracion):\n",
    "            print(token.pos_+\" \"+token.orth_)\n",
    "        break\n",
    "        \n",
    "def getnumexamples(path):\n",
    "    cont=0\n",
    "    for row in path:\n",
    "        sentence = row[0]  # oracion\n",
    "        spacyoracion=nlp(sentence)\n",
    "        for j,token in enumerate(spacyoracion):\n",
    "            #print(token.text)\n",
    "            if (token.pos_=='NOUN' or token.pos_=='VERB'or token.pos_=='INTJ' or token.pos_=='PROPN' or token.pos_=='ADJ'):\n",
    "                #rint(token.text)\n",
    "            #if (token.pos_=='NOUN' or token.pos_=='VERB' or token.pos_=='INTJ'):\n",
    "                cont+=1\n",
    "        #rint(cont)\n",
    "    return cont\n",
    "\n",
    "def getMatrix_traingold(path):\n",
    "    # abrimos el fichero\n",
    "    indexRow = 0\n",
    "    conteo=getnumexamples(path)\n",
    "    #matrix2 =np.empty([3861, 1])\n",
    "    matrix = np.empty(shape=[conteo, 1])\n",
    "    \n",
    "    for row in path:\n",
    "        listapalabras=list()\n",
    "        rowlen=len(row)\n",
    "        sentence = row[0]  # oracion\n",
    "        spacyoracion=nlp(sentence)\n",
    "        #print(sentence)\n",
    "        #print(rowlen)\n",
    "        #print(row)\n",
    "        #cont=0\n",
    "        cont=0\n",
    "        for element in row:\n",
    "            if element!='':\n",
    "                listapalabras.append(element.lower())\n",
    "        listapalabras.pop(0)\n",
    "        print(listapalabras)\n",
    "        #print(listapalabras)\n",
    "        for j,token in enumerate(spacyoracion):\n",
    "            #if (token.pos_=='ADV'):\n",
    "            if (token.pos_=='NOUN' or token.pos_=='VERB'or token.pos_=='INTJ' or token.pos_=='PROPN' or token.pos_=='ADJ'):\n",
    "                cont+=1\n",
    "                if token.orth_.lower() in listapalabras:\n",
    "                    matrix[indexRow] =1\n",
    "                    indexRow += 1\n",
    "                else:\n",
    "                    matrix[indexRow] = 0\n",
    "                    indexRow += 1\n",
    "        #print(cont)\n",
    "        #matrix2=np.concatenate((matrix2,matrix),axis=0)\n",
    "    return matrix\n",
    "\n",
    "def getnumexamplesuser(path,user):\n",
    "    cont=0\n",
    "    for row in path:\n",
    "        if row[0]==str(user):\n",
    "            sentence = row[1]  # oracion\n",
    "            spacyoracion=nlp(sentence)\n",
    "            for j,token in enumerate(spacyoracion):\n",
    "                if (token.pos_=='NOUN' or token.pos_=='VERB'or token.pos_=='INTJ' or token.pos_=='PROPN' or token.pos_=='ADJ'):\n",
    "                    #rint(token.text)\n",
    "                    cont+=1\n",
    "                    #print(token.text)\n",
    "                #if (token.pos_=='NOUN' or token.pos_=='VERB' or token.pos_=='INTJ'):\n",
    "            #rint(cont)\n",
    "                    \n",
    "    #print(cont)\n",
    "    return cont\n",
    "\n",
    "def getMatrix_trainuser(path,user):\n",
    "    # abrimos el fichero\n",
    "    indexRow = 0\n",
    "    conteo=getnumexamplesuser(path,user)\n",
    "    #matrix2 =np.empty([3861, 1])\n",
    "    matrix = np.empty(shape=[conteo, 1])\n",
    "    \n",
    "    for row in path:\n",
    "        if row[0]==str(user):\n",
    "            listapalabras=list()\n",
    "            rowlen=len(row)\n",
    "            sentence = row[1]  # oracion\n",
    "            spacyoracion=nlp(sentence)\n",
    "            #print(sentence)\n",
    "            #print(rowlen)\n",
    "            #print(row)\n",
    "            #cont=0\n",
    "            cont=0\n",
    "            for element in row:\n",
    "                if element!='':\n",
    "                    listapalabras.append(element.lower())\n",
    "            listapalabras.pop(0)\n",
    "            listapalabras.pop(0)\n",
    "            #rint(listapalabras)\n",
    "            for j,token in enumerate(spacyoracion):\n",
    "                #if (token.pos_=='ADV'):\n",
    "                if (token.pos_=='NOUN' or token.pos_=='VERB'or token.pos_=='INTJ' or token.pos_=='PROPN' or token.pos_=='ADJ'):\n",
    "                    cont+=1\n",
    "                    if token.orth_.lower() in listapalabras:\n",
    "                        matrix[indexRow] =1\n",
    "                        indexRow += 1\n",
    "                    else:\n",
    "                        matrix[indexRow] = 0\n",
    "                        indexRow += 1\n",
    "            #print(cont)\n",
    "            #matrix2=np.concatenate((matrix2,matrix),axis=0)\n",
    "    return matrix"
   ]
  },
  {
   "cell_type": "code",
   "execution_count": 9,
   "metadata": {
    "scrolled": true
   },
   "outputs": [
    {
     "name": "stdout",
     "output_type": "stream",
     "text": [
      "['predisposición', 'epilepsia', 'genética', 'anomalía']\n",
      "['neurológico', 'neurológica', 'trastorno', 'epilepsia', 'epilepsia', 'discapacitante']\n",
      "['prolongada', 'éxito', 'radica', 'plantea', 'retos', 'longevidad']\n",
      "['pabellones', 'auriculares', 'globos', 'oculares']\n",
      "['llagas', 'piezas ', 'dentales', 'prótesis', 'masticación']\n",
      "['integral', 'odontológico', 'integral', 'servicio']\n",
      "['habilidades', 'motrices', 'ejercitar', 'contexto']\n",
      "['leptina', 'apetito', 'células', 'metabólico', 'hormona', 'adipocitos']\n",
      "['enfermedades', 'endocrinológicas', 'prevalentes', 'incidencia']\n",
      "['sustentado', 'marco', 'solidaridad', 'equidad', 'garantías', 'universalidad']\n",
      "['llamamiento', 'difundir', 'promover', 'contribuyan', 'garantía']\n",
      "['recreaciones', '3d', 'avance', 'virtuales', 'catálogos', 'fotogrametría']\n",
      "['clave', 'vitamina', 'd', 'hormona', 'ósea', 'gestación']\n",
      "['terapias', 'abordar', 'células', 'tejidos', 'genes']\n"
     ]
    }
   ],
   "source": [
    "matrixgold=getMatrix_traingold(listagoldtask1)"
   ]
  },
  {
   "cell_type": "code",
   "execution_count": 10,
   "metadata": {},
   "outputs": [
    {
     "name": "stdout",
     "output_type": "stream",
     "text": [
      "2205\n",
      "4410\n",
      "6615\n"
     ]
    }
   ],
   "source": [
    "listametricstodos=list()\n",
    "matrixtotalGOLD = np.empty(shape=[0, 1])\n",
    "matrixtotaluser = np.empty(shape=[0, 1])\n",
    "for user in nlistausuariosmay:\n",
    "    matrixuser=getMatrix_trainuser(listatask1,user)\n",
    "    matrixtotalGOLD=np.concatenate((matrixtotalGOLD,matrixgold), axis=0)\n",
    "    matrixtotaluser=np.concatenate((matrixtotaluser,matrixuser), axis=0)\n",
    "print(len(matrixtotalGOLD))\n",
    "for user in nlistausuariosdic:\n",
    "    matrixuser=getMatrix_trainuser(listatask1,user)\n",
    "    matrixtotalGOLD=np.concatenate((matrixtotalGOLD,matrixgold), axis=0)\n",
    "    matrixtotaluser=np.concatenate((matrixtotaluser,matrixuser), axis=0)\n",
    "print(len(matrixtotalGOLD))\n",
    "for user in nlistausuariosctr:\n",
    "    matrixuser=getMatrix_trainuser(listatask1,user)\n",
    "    matrixtotalGOLD=np.concatenate((matrixtotalGOLD,matrixgold), axis=0)\n",
    "    matrixtotaluser=np.concatenate((matrixtotaluser,matrixuser), axis=0)\n",
    "print(len(matrixtotalGOLD))"
   ]
  },
  {
   "cell_type": "markdown",
   "metadata": {},
   "source": [
    "# 2. CALCULATE PLN METRICS"
   ]
  },
  {
   "cell_type": "code",
   "execution_count": 13,
   "metadata": {},
   "outputs": [],
   "source": [
    "from sklearn.metrics import precision_recall_fscore_support as pr\n",
    "from sklearn.metrics import accuracy_score as ac\n",
    "from sklearn.metrics import f1_score\n",
    "def Evaluation(matrixgold,matrixuser):\n",
    "    y_dev=matrixuser\n",
    "    X_dev=matrixgold\n",
    "    #y_dev=matrixgold\n",
    "    #X_dev=matrixuser\n",
    "    #print(len(y_dev))\n",
    "    #print(len(X_dev))\n",
    "    # obtenemos precision, recall y f1 comparando el gold standard (y_dev) con las predicciones\n",
    "    #predicted = self.model.predict(X_dev)\n",
    "    bPrecis, bRecall, bFscore, bSupport = pr(y_dev, X_dev, average='macro')\n",
    "    # mostramos resultados\n",
    "    bAcuracy = ac(y_dev, X_dev)\n",
    "    G1 = 2 * (bAcuracy * bRecall) / (bAcuracy + bRecall)\n",
    "    f1x2=f1_score(y_dev, X_dev, average='macro')\n",
    "    #print(bAcuracy,bPrecis, bRecall, bFscore, G1, f1x2)\n",
    "    print(classification_report(y_dev, X_dev))\n",
    "    return bAcuracy,bPrecis, bRecall, bFscore"
   ]
  },
  {
   "cell_type": "markdown",
   "metadata": {},
   "source": [
    "# OLDER PEOPLE"
   ]
  },
  {
   "cell_type": "markdown",
   "metadata": {},
   "source": [
    "#### PER USER"
   ]
  },
  {
   "cell_type": "code",
   "execution_count": 19,
   "metadata": {
    "scrolled": true
   },
   "outputs": [
    {
     "name": "stdout",
     "output_type": "stream",
     "text": [
      "2\n",
      "              precision    recall  f1-score   support\n",
      "\n",
      "         0.0       1.00      0.56      0.72       144\n",
      "         1.0       0.05      1.00      0.09         3\n",
      "\n",
      "    accuracy                           0.57       147\n",
      "   macro avg       0.52      0.78      0.40       147\n",
      "weighted avg       0.98      0.57      0.71       147\n",
      "\n",
      "13\n",
      "              precision    recall  f1-score   support\n",
      "\n",
      "         0.0       1.00      0.57      0.72       143\n",
      "         1.0       0.06      1.00      0.11         4\n",
      "\n",
      "    accuracy                           0.58       147\n",
      "   macro avg       0.53      0.78      0.42       147\n",
      "weighted avg       0.97      0.58      0.71       147\n",
      "\n",
      "14\n",
      "              precision    recall  f1-score   support\n",
      "\n",
      "         0.0       0.94      0.64      0.76       118\n",
      "         1.0       0.36      0.83      0.51        29\n",
      "\n",
      "    accuracy                           0.68       147\n",
      "   macro avg       0.65      0.74      0.63       147\n",
      "weighted avg       0.82      0.68      0.71       147\n",
      "\n",
      "15\n",
      "              precision    recall  f1-score   support\n",
      "\n",
      "         0.0       0.93      0.73      0.82       103\n",
      "         1.0       0.58      0.86      0.69        44\n",
      "\n",
      "    accuracy                           0.77       147\n",
      "   macro avg       0.75      0.80      0.75       147\n",
      "weighted avg       0.82      0.77      0.78       147\n",
      "\n",
      "16\n",
      "              precision    recall  f1-score   support\n",
      "\n",
      "         0.0       0.93      0.66      0.77       113\n",
      "         1.0       0.42      0.82      0.56        34\n",
      "\n",
      "    accuracy                           0.70       147\n",
      "   macro avg       0.68      0.74      0.67       147\n",
      "weighted avg       0.81      0.70      0.72       147\n",
      "\n",
      "17\n",
      "              precision    recall  f1-score   support\n",
      "\n",
      "         0.0       0.96      0.59      0.73       132\n",
      "         1.0       0.18      0.80      0.30        15\n",
      "\n",
      "    accuracy                           0.61       147\n",
      "   macro avg       0.57      0.70      0.51       147\n",
      "weighted avg       0.88      0.61      0.69       147\n",
      "\n",
      "18\n",
      "              precision    recall  f1-score   support\n",
      "\n",
      "         0.0       1.00      0.57      0.72       143\n",
      "         1.0       0.06      1.00      0.11         4\n",
      "\n",
      "    accuracy                           0.58       147\n",
      "   macro avg       0.53      0.78      0.42       147\n",
      "weighted avg       0.97      0.58      0.71       147\n",
      "\n",
      "19\n",
      "              precision    recall  f1-score   support\n",
      "\n",
      "         0.0       1.00      0.55      0.71       146\n",
      "         1.0       0.02      1.00      0.03         1\n",
      "\n",
      "    accuracy                           0.56       147\n",
      "   macro avg       0.51      0.78      0.37       147\n",
      "weighted avg       0.99      0.56      0.71       147\n",
      "\n",
      "20\n",
      "              precision    recall  f1-score   support\n",
      "\n",
      "         0.0       0.98      0.57      0.72       138\n",
      "         1.0       0.11      0.78      0.19         9\n",
      "\n",
      "    accuracy                           0.59       147\n",
      "   macro avg       0.54      0.68      0.45       147\n",
      "weighted avg       0.92      0.59      0.69       147\n",
      "\n",
      "21\n",
      "              precision    recall  f1-score   support\n",
      "\n",
      "         0.0       0.98      0.56      0.71       142\n",
      "         1.0       0.05      0.60      0.08         5\n",
      "\n",
      "    accuracy                           0.56       147\n",
      "   macro avg       0.51      0.58      0.40       147\n",
      "weighted avg       0.94      0.56      0.69       147\n",
      "\n",
      "22\n",
      "              precision    recall  f1-score   support\n",
      "\n",
      "         0.0       1.00      0.60      0.75       136\n",
      "         1.0       0.17      1.00      0.29        11\n",
      "\n",
      "    accuracy                           0.63       147\n",
      "   macro avg       0.58      0.80      0.52       147\n",
      "weighted avg       0.94      0.63      0.71       147\n",
      "\n",
      "24\n",
      "              precision    recall  f1-score   support\n",
      "\n",
      "         0.0       0.96      0.57      0.72       136\n",
      "         1.0       0.12      0.73      0.21        11\n",
      "\n",
      "    accuracy                           0.59       147\n",
      "   macro avg       0.54      0.65      0.46       147\n",
      "weighted avg       0.90      0.59      0.68       147\n",
      "\n",
      "25\n",
      "              precision    recall  f1-score   support\n",
      "\n",
      "         0.0       0.75      0.55      0.64       110\n",
      "         1.0       0.26      0.46      0.33        37\n",
      "\n",
      "    accuracy                           0.53       147\n",
      "   macro avg       0.51      0.51      0.48       147\n",
      "weighted avg       0.63      0.53      0.56       147\n",
      "\n",
      "26\n",
      "              precision    recall  f1-score   support\n",
      "\n",
      "         0.0       1.00      0.55      0.71       146\n",
      "         1.0       0.02      1.00      0.03         1\n",
      "\n",
      "    accuracy                           0.56       147\n",
      "   macro avg       0.51      0.78      0.37       147\n",
      "weighted avg       0.99      0.56      0.71       147\n",
      "\n",
      "42\n",
      "              precision    recall  f1-score   support\n",
      "\n",
      "         0.0       0.98      0.60      0.74       132\n",
      "         1.0       0.20      0.87      0.32        15\n",
      "\n",
      "    accuracy                           0.63       147\n",
      "   macro avg       0.59      0.73      0.53       147\n",
      "weighted avg       0.90      0.63      0.70       147\n",
      "\n"
     ]
    }
   ],
   "source": [
    "listametricsMAY=list()\n",
    "for user in nlistausuariosmay:\n",
    "    matrixuser=getMatrix_trainuser(listatask1,user)\n",
    "    print(user)\n",
    "    metricasnlp=Evaluation(matrixgold,matrixuser)\n",
    "    #print(\"coeficiente kappa\"+str(cohen))\n",
    "    listametricsMAY.append([user,metricasnlp])"
   ]
  },
  {
   "cell_type": "markdown",
   "metadata": {},
   "source": [
    "#### ALL USERS "
   ]
  },
  {
   "cell_type": "code",
   "execution_count": 14,
   "metadata": {},
   "outputs": [
    {
     "name": "stdout",
     "output_type": "stream",
     "text": [
      "              precision    recall  f1-score   support\n",
      "\n",
      "         0.0       0.96      0.59      0.73      1982\n",
      "         1.0       0.18      0.78      0.29       223\n",
      "\n",
      "    accuracy                           0.61      2205\n",
      "   macro avg       0.57      0.68      0.51      2205\n",
      "weighted avg       0.88      0.61      0.68      2205\n",
      "\n",
      "(0.6077097505668935, 0.56771417882529, 0.6842818550813827, 0.508162923763287)\n"
     ]
    }
   ],
   "source": [
    "listametricstodos=list()\n",
    "matrixtotalGOLD = np.empty(shape=[0, 1])\n",
    "matrixtotaluser = np.empty(shape=[0, 1])\n",
    "for user in nlistausuariosmay:\n",
    "    matrixuser=getMatrix_trainuser(listatask1,user)\n",
    "    matrixtotalGOLD=np.concatenate((matrixtotalGOLD,matrixgold), axis=0)\n",
    "    #print(len(matrixtotalGOLD))\n",
    "    matrixtotaluser=np.concatenate((matrixtotaluser,matrixuser), axis=0)\n",
    "    #print(len(matrixtotaluser))\n",
    "metricasnlptodos=Evaluation(matrixtotalGOLD,matrixtotaluser)\n",
    "print(metricasnlptodos)"
   ]
  },
  {
   "cell_type": "markdown",
   "metadata": {},
   "source": [
    "# PEOPLE WITH INTELECTUAL DISABILITIES"
   ]
  },
  {
   "cell_type": "markdown",
   "metadata": {},
   "source": [
    "#### PER USER"
   ]
  },
  {
   "cell_type": "code",
   "execution_count": 20,
   "metadata": {
    "scrolled": true
   },
   "outputs": [
    {
     "name": "stdout",
     "output_type": "stream",
     "text": [
      "12\n",
      "              precision    recall  f1-score   support\n",
      "\n",
      "         0.0       0.99      0.56      0.71       143\n",
      "         1.0       0.05      0.75      0.09         4\n",
      "\n",
      "    accuracy                           0.56       147\n",
      "   macro avg       0.52      0.65      0.40       147\n",
      "weighted avg       0.96      0.56      0.70       147\n",
      "\n",
      "27\n",
      "              precision    recall  f1-score   support\n",
      "\n",
      "         0.0       0.99      0.60      0.75       133\n",
      "         1.0       0.20      0.93      0.32        14\n",
      "\n",
      "    accuracy                           0.63       147\n",
      "   macro avg       0.59      0.77      0.54       147\n",
      "weighted avg       0.91      0.63      0.71       147\n",
      "\n",
      "28\n",
      "              precision    recall  f1-score   support\n",
      "\n",
      "         0.0       0.99      0.58      0.73       138\n",
      "         1.0       0.12      0.89      0.21         9\n",
      "\n",
      "    accuracy                           0.60       147\n",
      "   macro avg       0.55      0.73      0.47       147\n",
      "weighted avg       0.93      0.60      0.70       147\n",
      "\n",
      "29\n",
      "              precision    recall  f1-score   support\n",
      "\n",
      "         0.0       0.98      0.58      0.72       137\n",
      "         1.0       0.12      0.80      0.21        10\n",
      "\n",
      "    accuracy                           0.59       147\n",
      "   macro avg       0.55      0.69      0.47       147\n",
      "weighted avg       0.92      0.59      0.69       147\n",
      "\n",
      "30\n",
      "              precision    recall  f1-score   support\n",
      "\n",
      "         0.0       0.96      0.59      0.73       132\n",
      "         1.0       0.18      0.80      0.30        15\n",
      "\n",
      "    accuracy                           0.61       147\n",
      "   macro avg       0.57      0.70      0.51       147\n",
      "weighted avg       0.88      0.61      0.69       147\n",
      "\n",
      "31\n",
      "              precision    recall  f1-score   support\n",
      "\n",
      "         0.0       0.84      0.59      0.69       116\n",
      "         1.0       0.27      0.58      0.37        31\n",
      "\n",
      "    accuracy                           0.59       147\n",
      "   macro avg       0.56      0.58      0.53       147\n",
      "weighted avg       0.72      0.59      0.62       147\n",
      "\n",
      "32\n",
      "              precision    recall  f1-score   support\n",
      "\n",
      "         0.0       0.94      0.62      0.75       123\n",
      "         1.0       0.29      0.79      0.42        24\n",
      "\n",
      "    accuracy                           0.65       147\n",
      "   macro avg       0.61      0.70      0.58       147\n",
      "weighted avg       0.83      0.65      0.69       147\n",
      "\n",
      "33\n",
      "              precision    recall  f1-score   support\n",
      "\n",
      "         0.0       0.88      0.59      0.70       121\n",
      "         1.0       0.24      0.62      0.35        26\n",
      "\n",
      "    accuracy                           0.59       147\n",
      "   macro avg       0.56      0.60      0.53       147\n",
      "weighted avg       0.76      0.59      0.64       147\n",
      "\n",
      "34\n",
      "              precision    recall  f1-score   support\n",
      "\n",
      "         0.0       0.99      0.61      0.75       131\n",
      "         1.0       0.23      0.94      0.37        16\n",
      "\n",
      "    accuracy                           0.65       147\n",
      "   macro avg       0.61      0.77      0.56       147\n",
      "weighted avg       0.90      0.65      0.71       147\n",
      "\n",
      "35\n",
      "              precision    recall  f1-score   support\n",
      "\n",
      "         0.0       0.98      0.61      0.75       129\n",
      "         1.0       0.24      0.89      0.38        18\n",
      "\n",
      "    accuracy                           0.65       147\n",
      "   macro avg       0.61      0.75      0.57       147\n",
      "weighted avg       0.89      0.65      0.71       147\n",
      "\n",
      "36\n",
      "              precision    recall  f1-score   support\n",
      "\n",
      "         0.0       0.99      0.62      0.76       129\n",
      "         1.0       0.26      0.94      0.40        18\n",
      "\n",
      "    accuracy                           0.66       147\n",
      "   macro avg       0.62      0.78      0.58       147\n",
      "weighted avg       0.90      0.66      0.72       147\n",
      "\n",
      "37\n",
      "              precision    recall  f1-score   support\n",
      "\n",
      "         0.0       0.93      0.61      0.74       122\n",
      "         1.0       0.29      0.76      0.42        25\n",
      "\n",
      "    accuracy                           0.64       147\n",
      "   macro avg       0.61      0.69      0.58       147\n",
      "weighted avg       0.82      0.64      0.68       147\n",
      "\n",
      "38\n",
      "              precision    recall  f1-score   support\n",
      "\n",
      "         0.0       0.96      0.63      0.76       123\n",
      "         1.0       0.32      0.88      0.47        24\n",
      "\n",
      "    accuracy                           0.67       147\n",
      "   macro avg       0.64      0.75      0.62       147\n",
      "weighted avg       0.86      0.67      0.72       147\n",
      "\n",
      "39\n",
      "              precision    recall  f1-score   support\n",
      "\n",
      "         0.0       0.99      0.61      0.75       131\n",
      "         1.0       0.23      0.94      0.37        16\n",
      "\n",
      "    accuracy                           0.65       147\n",
      "   macro avg       0.61      0.77      0.56       147\n",
      "weighted avg       0.90      0.65      0.71       147\n",
      "\n",
      "41\n",
      "              precision    recall  f1-score   support\n",
      "\n",
      "         0.0       0.90      0.60      0.72       121\n",
      "         1.0       0.27      0.69      0.39        26\n",
      "\n",
      "    accuracy                           0.62       147\n",
      "   macro avg       0.59      0.65      0.56       147\n",
      "weighted avg       0.79      0.62      0.66       147\n",
      "\n"
     ]
    }
   ],
   "source": [
    "listametricsDISC=list()\n",
    "for user in nlistausuariosdic:\n",
    "    matrixuser=getMatrix_trainuser(listatask1,user)\n",
    "    print(user)\n",
    "    metricasnlp=Evaluation(matrixgold,matrixuser)\n",
    "    #print(\"coeficiente kappa\"+str(cohen))\n",
    "    listametricsDISC.append([user,metricasnlp])"
   ]
  },
  {
   "cell_type": "markdown",
   "metadata": {},
   "source": [
    "#### ALL USERS"
   ]
  },
  {
   "cell_type": "code",
   "execution_count": 15,
   "metadata": {},
   "outputs": [
    {
     "name": "stdout",
     "output_type": "stream",
     "text": [
      "              precision    recall  f1-score   support\n",
      "\n",
      "         0.0       0.95      0.60      0.74      1929\n",
      "         1.0       0.22      0.79      0.34       276\n",
      "\n",
      "    accuracy                           0.62      2205\n",
      "   macro avg       0.59      0.69      0.54      2205\n",
      "weighted avg       0.86      0.62      0.69      2205\n",
      "\n",
      "(0.6235827664399093, 0.5862326973438085, 0.6948238555683277, 0.5401984371043016)\n"
     ]
    }
   ],
   "source": [
    "listametricstodos=list()\n",
    "matrixtotalGOLD = np.empty(shape=[0, 1])\n",
    "matrixtotaluser = np.empty(shape=[0, 1])\n",
    "for user in nlistausuariosdic:\n",
    "    matrixuser=getMatrix_trainuser(listatask1,user)\n",
    "    matrixtotalGOLD=np.concatenate((matrixtotalGOLD,matrixgold), axis=0)\n",
    "    #print(len(matrixtotalGOLD))\n",
    "    matrixtotaluser=np.concatenate((matrixtotaluser,matrixuser), axis=0)\n",
    "    #print(len(matrixtotaluser))\n",
    "metricasnlptodos=Evaluation(matrixtotalGOLD,matrixtotaluser)\n",
    "print(metricasnlptodos)"
   ]
  },
  {
   "cell_type": "markdown",
   "metadata": {},
   "source": [
    "# CONTROL USERS"
   ]
  },
  {
   "cell_type": "markdown",
   "metadata": {},
   "source": [
    "#### PER USER "
   ]
  },
  {
   "cell_type": "code",
   "execution_count": 21,
   "metadata": {
    "scrolled": true
   },
   "outputs": [
    {
     "name": "stdout",
     "output_type": "stream",
     "text": [
      "4\n",
      "              precision    recall  f1-score   support\n",
      "\n",
      "         0.0       0.96      0.56      0.71       139\n",
      "         1.0       0.08      0.62      0.14         8\n",
      "\n",
      "    accuracy                           0.56       147\n",
      "   macro avg       0.52      0.59      0.42       147\n",
      "weighted avg       0.91      0.56      0.68       147\n",
      "\n",
      "5\n",
      "              precision    recall  f1-score   support\n",
      "\n",
      "         0.0       0.99      0.58      0.73       138\n",
      "         1.0       0.12      0.89      0.21         9\n",
      "\n",
      "    accuracy                           0.60       147\n",
      "   macro avg       0.55      0.73      0.47       147\n",
      "weighted avg       0.93      0.60      0.70       147\n",
      "\n",
      "6\n",
      "              precision    recall  f1-score   support\n",
      "\n",
      "         0.0       0.99      0.58      0.73       139\n",
      "         1.0       0.11      0.88      0.19         8\n",
      "\n",
      "    accuracy                           0.59       147\n",
      "   macro avg       0.55      0.73      0.46       147\n",
      "weighted avg       0.94      0.59      0.70       147\n",
      "\n",
      "7\n",
      "              precision    recall  f1-score   support\n",
      "\n",
      "         0.0       0.99      0.57      0.72       140\n",
      "         1.0       0.09      0.86      0.16         7\n",
      "\n",
      "    accuracy                           0.59       147\n",
      "   macro avg       0.54      0.71      0.44       147\n",
      "weighted avg       0.94      0.59      0.70       147\n",
      "\n",
      "11\n",
      "              precision    recall  f1-score   support\n",
      "\n",
      "         0.0       0.99      0.58      0.73       139\n",
      "         1.0       0.11      0.88      0.19         8\n",
      "\n",
      "    accuracy                           0.59       147\n",
      "   macro avg       0.55      0.73      0.46       147\n",
      "weighted avg       0.94      0.59      0.70       147\n",
      "\n",
      "43\n",
      "              precision    recall  f1-score   support\n",
      "\n",
      "         0.0       1.00      0.55      0.71       146\n",
      "         1.0       0.02      1.00      0.03         1\n",
      "\n",
      "    accuracy                           0.56       147\n",
      "   macro avg       0.51      0.78      0.37       147\n",
      "weighted avg       0.99      0.56      0.71       147\n",
      "\n",
      "44\n",
      "              precision    recall  f1-score   support\n",
      "\n",
      "         0.0       0.85      0.70      0.77        99\n",
      "         1.0       0.55      0.75      0.63        48\n",
      "\n",
      "    accuracy                           0.71       147\n",
      "   macro avg       0.70      0.72      0.70       147\n",
      "weighted avg       0.75      0.71      0.72       147\n",
      "\n",
      "45\n",
      "              precision    recall  f1-score   support\n",
      "\n",
      "         0.0       1.00      0.57      0.72       143\n",
      "         1.0       0.06      1.00      0.11         4\n",
      "\n",
      "    accuracy                           0.58       147\n",
      "   macro avg       0.53      0.78      0.42       147\n",
      "weighted avg       0.97      0.58      0.71       147\n",
      "\n",
      "46\n",
      "              precision    recall  f1-score   support\n",
      "\n",
      "         0.0       0.99      0.56      0.72       142\n",
      "         1.0       0.06      0.80      0.11         5\n",
      "\n",
      "    accuracy                           0.57       147\n",
      "   macro avg       0.52      0.68      0.42       147\n",
      "weighted avg       0.96      0.57      0.70       147\n",
      "\n",
      "47\n",
      "              precision    recall  f1-score   support\n",
      "\n",
      "         0.0       0.99      0.55      0.71       145\n",
      "         1.0       0.02      0.50      0.03         2\n",
      "\n",
      "    accuracy                           0.55       147\n",
      "   macro avg       0.50      0.53      0.37       147\n",
      "weighted avg       0.97      0.55      0.70       147\n",
      "\n",
      "48\n",
      "              precision    recall  f1-score   support\n",
      "\n",
      "         0.0       0.95      0.60      0.74       128\n",
      "         1.0       0.23      0.79      0.35        19\n",
      "\n",
      "    accuracy                           0.63       147\n",
      "   macro avg       0.59      0.70      0.54       147\n",
      "weighted avg       0.86      0.63      0.69       147\n",
      "\n",
      "49\n",
      "              precision    recall  f1-score   support\n",
      "\n",
      "         0.0       1.00      0.57      0.73       142\n",
      "         1.0       0.08      1.00      0.14         5\n",
      "\n",
      "    accuracy                           0.59       147\n",
      "   macro avg       0.54      0.79      0.43       147\n",
      "weighted avg       0.97      0.59      0.71       147\n",
      "\n",
      "50\n",
      "              precision    recall  f1-score   support\n",
      "\n",
      "         0.0       0.99      0.56      0.71       143\n",
      "         1.0       0.05      0.75      0.09         4\n",
      "\n",
      "    accuracy                           0.56       147\n",
      "   macro avg       0.52      0.65      0.40       147\n",
      "weighted avg       0.96      0.56      0.70       147\n",
      "\n",
      "51\n",
      "              precision    recall  f1-score   support\n",
      "\n",
      "         0.0       0.99      0.60      0.75       133\n",
      "         1.0       0.20      0.93      0.32        14\n",
      "\n",
      "    accuracy                           0.63       147\n",
      "   macro avg       0.59      0.77      0.54       147\n",
      "weighted avg       0.91      0.63      0.71       147\n",
      "\n",
      "52\n",
      "              precision    recall  f1-score   support\n",
      "\n",
      "         0.0       0.99      0.57      0.72       140\n",
      "         1.0       0.09      0.86      0.16         7\n",
      "\n",
      "    accuracy                           0.59       147\n",
      "   macro avg       0.54      0.71      0.44       147\n",
      "weighted avg       0.94      0.59      0.70       147\n",
      "\n"
     ]
    }
   ],
   "source": [
    "listametricsCTR=list()\n",
    "for user in nlistausuariosctr:\n",
    "    matrixuser=getMatrix_trainuser(listatask1,user)\n",
    "    print(user)\n",
    "    metricasnlp=Evaluation(matrixgold,matrixuser)\n",
    "    #print(\"coeficiente kappa\"+str(cohen))\n",
    "    listametricsCTR.append([user,metricasnlp])"
   ]
  },
  {
   "cell_type": "markdown",
   "metadata": {},
   "source": [
    "#### ALL USERS"
   ]
  },
  {
   "cell_type": "code",
   "execution_count": 16,
   "metadata": {},
   "outputs": [
    {
     "name": "stdout",
     "output_type": "stream",
     "text": [
      "              precision    recall  f1-score   support\n",
      "\n",
      "         0.0       0.98      0.58      0.73      2056\n",
      "         1.0       0.12      0.81      0.21       149\n",
      "\n",
      "    accuracy                           0.59      2205\n",
      "   macro avg       0.55      0.69      0.47      2205\n",
      "weighted avg       0.92      0.59      0.69      2205\n",
      "\n",
      "(0.5931972789115646, 0.5495884773662552, 0.6947075836314731, 0.46911950578540396)\n"
     ]
    }
   ],
   "source": [
    "listametricstodos=list()\n",
    "matrixtotalGOLD = np.empty(shape=[0, 1])\n",
    "matrixtotaluser = np.empty(shape=[0, 1])\n",
    "for user in nlistausuariosctr:\n",
    "    matrixuser=getMatrix_trainuser(listatask1,user)\n",
    "    matrixtotalGOLD=np.concatenate((matrixtotalGOLD,matrixgold), axis=0)\n",
    "    #print(len(matrixtotalGOLD))\n",
    "    matrixtotaluser=np.concatenate((matrixtotaluser,matrixuser), axis=0)\n",
    "    #print(len(matrixtotaluser))\n",
    "metricasnlptodos=Evaluation(matrixtotalGOLD,matrixtotaluser)\n",
    "print(metricasnlptodos)"
   ]
  },
  {
   "cell_type": "markdown",
   "metadata": {},
   "source": [
    "# PLN metrics for the entire population"
   ]
  },
  {
   "cell_type": "code",
   "execution_count": 17,
   "metadata": {},
   "outputs": [
    {
     "name": "stdout",
     "output_type": "stream",
     "text": [
      "              precision    recall  f1-score   support\n",
      "\n",
      "         0.0       0.96      0.59      0.73      5967\n",
      "         1.0       0.17      0.79      0.28       648\n",
      "\n",
      "    accuracy                           0.61      6615\n",
      "   macro avg       0.57      0.69      0.51      6615\n",
      "weighted avg       0.89      0.61      0.69      6615\n",
      "\n",
      "(0.6081632653061224, 0.5678451178451178, 0.6899509803921569, 0.5069595841019621)\n"
     ]
    }
   ],
   "source": [
    "listametricstodos=list()\n",
    "matrixtotalGOLD = np.empty(shape=[0, 1])\n",
    "matrixtotaluser = np.empty(shape=[0, 1])\n",
    "for user in nlistausuariosmay:\n",
    "    matrixuser=getMatrix_trainuser(listatask1,user)\n",
    "    matrixtotalGOLD=np.concatenate((matrixtotalGOLD,matrixgold), axis=0)\n",
    "    matrixtotaluser=np.concatenate((matrixtotaluser,matrixuser), axis=0)\n",
    "for user in nlistausuariosdic:\n",
    "    matrixuser=getMatrix_trainuser(listatask1,user)\n",
    "    matrixtotalGOLD=np.concatenate((matrixtotalGOLD,matrixgold), axis=0)\n",
    "    matrixtotaluser=np.concatenate((matrixtotaluser,matrixuser), axis=0)\n",
    "for user in nlistausuariosctr:\n",
    "    matrixuser=getMatrix_trainuser(listatask1,user)\n",
    "    matrixtotalGOLD=np.concatenate((matrixtotalGOLD,matrixgold), axis=0)\n",
    "    matrixtotaluser=np.concatenate((matrixtotaluser,matrixuser), axis=0)\n",
    "metricasnlptodos=Evaluation(matrixtotalGOLD,matrixtotaluser)\n",
    "print(metricasnlptodos)"
   ]
  },
  {
   "cell_type": "markdown",
   "metadata": {},
   "source": [
    "# 3. PLOTTING DIFFERENT GRAPHICS"
   ]
  },
  {
   "cell_type": "code",
   "execution_count": 22,
   "metadata": {},
   "outputs": [],
   "source": [
    "listametricstodos=list()\n",
    "for i in range(len(listametricsMAY)):\n",
    "    if listametricsMAY[i][0] in nlistausuariosmay:\n",
    "        listametricsMAY[i].append('0')\n",
    "    if listametricsDISC[i][0] in nlistausuariosdic:\n",
    "        listametricsDISC[i].append('1')\n",
    "    if listametricsCTR[i][0] in nlistausuariosctr:\n",
    "        listametricsCTR[i].append('2')"
   ]
  },
  {
   "cell_type": "code",
   "execution_count": 24,
   "metadata": {},
   "outputs": [],
   "source": [
    "listametricstodos=list()\n",
    "for i in range(len(listametricsMAY)):\n",
    "    listametricstodos.append([listametricsMAY[i][0],listametricsMAY[i][1][0],listametricsMAY[i][1][1],listametricsMAY[i][1][2],listametricsMAY[i][1][3],listametricsDISC[i][0],listametricsDISC[i][1][0],listametricsDISC[i][1][1],listametricsDISC[i][1][2],listametricsDISC[i][1][3],listametricsCTR[i][0],listametricsCTR[i][1][0],listametricsCTR[i][1][1],listametricsCTR[i][1][2],listametricsCTR[i][1][3]])"
   ]
  },
  {
   "cell_type": "code",
   "execution_count": 210,
   "metadata": {},
   "outputs": [],
   "source": [
    "def procesarMETRICS(listametricstodosp):\n",
    "    \n",
    "    with open('listametricstodos.csv', mode='w', encoding='utf-8') as train_file:\n",
    "        cont=0\n",
    "        for row in listametricstodosp:\n",
    "            train_writer = csv.writer(train_file, delimiter=';', quotechar='\"', quoting=csv.QUOTE_MINIMAL)\n",
    "            train_writer.writerow([row[0],row[1],row[2],row[3],row[4],row[5],row[6],row[7],row[8],row[9],row[10],row[11],row[12],row[13],row[14]])"
   ]
  },
  {
   "cell_type": "code",
   "execution_count": 273,
   "metadata": {},
   "outputs": [],
   "source": [
    "procesarMETRICS(listametricstodos)"
   ]
  },
  {
   "cell_type": "code",
   "execution_count": 25,
   "metadata": {},
   "outputs": [],
   "source": [
    "import numpy as np\n",
    "import seaborn as sb\n",
    "import pandas as pd\n",
    "import matplotlib.pyplot as plt\n",
    "df_listametricstodos=pd.DataFrame(listametricstodos)\n",
    "df_listametricstodos=df_listametricstodos.rename(columns={0:\"ID_MAY\",1:'ACURACCY_MAY',2:'PRECISION_MAY',3:'RECALL_MAY',4:'F1_MAY',5:'ID_DISC',6:'ACURACCY_DISC',7:'PRECISION_DISC',8:'RECALL_DIC',9:'F1_DIC',10:'ID_CTR',11:'ACURACCY_CTR',12:'PRECISION_CTR',13:'RECALL_CTR',14:'F1_CTR'})"
   ]
  },
  {
   "cell_type": "code",
   "execution_count": 26,
   "metadata": {},
   "outputs": [
    {
     "data": {
      "text/html": [
       "<div>\n",
       "<style scoped>\n",
       "    .dataframe tbody tr th:only-of-type {\n",
       "        vertical-align: middle;\n",
       "    }\n",
       "\n",
       "    .dataframe tbody tr th {\n",
       "        vertical-align: top;\n",
       "    }\n",
       "\n",
       "    .dataframe thead th {\n",
       "        text-align: right;\n",
       "    }\n",
       "</style>\n",
       "<table border=\"1\" class=\"dataframe\">\n",
       "  <thead>\n",
       "    <tr style=\"text-align: right;\">\n",
       "      <th></th>\n",
       "      <th>ID_MAY</th>\n",
       "      <th>ACURACCY_MAY</th>\n",
       "      <th>PRECISION_MAY</th>\n",
       "      <th>RECALL_MAY</th>\n",
       "      <th>F1_MAY</th>\n",
       "      <th>ID_DISC</th>\n",
       "      <th>ACURACCY_DISC</th>\n",
       "      <th>PRECISION_DISC</th>\n",
       "      <th>RECALL_DIC</th>\n",
       "      <th>F1_DIC</th>\n",
       "      <th>ID_CTR</th>\n",
       "      <th>ACURACCY_CTR</th>\n",
       "      <th>PRECISION_CTR</th>\n",
       "      <th>RECALL_CTR</th>\n",
       "      <th>F1_CTR</th>\n",
       "    </tr>\n",
       "  </thead>\n",
       "  <tbody>\n",
       "    <tr>\n",
       "      <th>0</th>\n",
       "      <td>2</td>\n",
       "      <td>0.571429</td>\n",
       "      <td>0.522727</td>\n",
       "      <td>0.781250</td>\n",
       "      <td>0.403478</td>\n",
       "      <td>12</td>\n",
       "      <td>0.564626</td>\n",
       "      <td>0.516554</td>\n",
       "      <td>0.654720</td>\n",
       "      <td>0.400000</td>\n",
       "      <td>4</td>\n",
       "      <td>0.564626</td>\n",
       "      <td>0.519360</td>\n",
       "      <td>0.593076</td>\n",
       "      <td>0.422113</td>\n",
       "    </tr>\n",
       "    <tr>\n",
       "      <th>1</th>\n",
       "      <td>13</td>\n",
       "      <td>0.578231</td>\n",
       "      <td>0.530303</td>\n",
       "      <td>0.783217</td>\n",
       "      <td>0.418750</td>\n",
       "      <td>27</td>\n",
       "      <td>0.632653</td>\n",
       "      <td>0.592312</td>\n",
       "      <td>0.765038</td>\n",
       "      <td>0.536332</td>\n",
       "      <td>5</td>\n",
       "      <td>0.598639</td>\n",
       "      <td>0.554433</td>\n",
       "      <td>0.734300</td>\n",
       "      <td>0.471963</td>\n",
       "    </tr>\n",
       "    <tr>\n",
       "      <th>2</th>\n",
       "      <td>14</td>\n",
       "      <td>0.680272</td>\n",
       "      <td>0.650954</td>\n",
       "      <td>0.735827</td>\n",
       "      <td>0.634541</td>\n",
       "      <td>28</td>\n",
       "      <td>0.598639</td>\n",
       "      <td>0.554433</td>\n",
       "      <td>0.734300</td>\n",
       "      <td>0.471963</td>\n",
       "      <td>6</td>\n",
       "      <td>0.591837</td>\n",
       "      <td>0.546857</td>\n",
       "      <td>0.725270</td>\n",
       "      <td>0.458231</td>\n",
       "    </tr>\n",
       "    <tr>\n",
       "      <th>3</th>\n",
       "      <td>15</td>\n",
       "      <td>0.768707</td>\n",
       "      <td>0.750842</td>\n",
       "      <td>0.795896</td>\n",
       "      <td>0.753063</td>\n",
       "      <td>29</td>\n",
       "      <td>0.591837</td>\n",
       "      <td>0.548260</td>\n",
       "      <td>0.688321</td>\n",
       "      <td>0.467648</td>\n",
       "      <td>7</td>\n",
       "      <td>0.585034</td>\n",
       "      <td>0.539282</td>\n",
       "      <td>0.714286</td>\n",
       "      <td>0.444183</td>\n",
       "    </tr>\n",
       "    <tr>\n",
       "      <th>4</th>\n",
       "      <td>16</td>\n",
       "      <td>0.700680</td>\n",
       "      <td>0.675084</td>\n",
       "      <td>0.743623</td>\n",
       "      <td>0.666598</td>\n",
       "      <td>30</td>\n",
       "      <td>0.612245</td>\n",
       "      <td>0.572391</td>\n",
       "      <td>0.695455</td>\n",
       "      <td>0.514345</td>\n",
       "      <td>11</td>\n",
       "      <td>0.591837</td>\n",
       "      <td>0.546857</td>\n",
       "      <td>0.725270</td>\n",
       "      <td>0.458231</td>\n",
       "    </tr>\n",
       "    <tr>\n",
       "      <th>5</th>\n",
       "      <td>17</td>\n",
       "      <td>0.612245</td>\n",
       "      <td>0.572391</td>\n",
       "      <td>0.695455</td>\n",
       "      <td>0.514345</td>\n",
       "      <td>31</td>\n",
       "      <td>0.585034</td>\n",
       "      <td>0.556117</td>\n",
       "      <td>0.583426</td>\n",
       "      <td>0.530745</td>\n",
       "      <td>43</td>\n",
       "      <td>0.557823</td>\n",
       "      <td>0.507576</td>\n",
       "      <td>0.777397</td>\n",
       "      <td>0.371754</td>\n",
       "    </tr>\n",
       "    <tr>\n",
       "      <th>6</th>\n",
       "      <td>18</td>\n",
       "      <td>0.578231</td>\n",
       "      <td>0.530303</td>\n",
       "      <td>0.783217</td>\n",
       "      <td>0.418750</td>\n",
       "      <td>32</td>\n",
       "      <td>0.646259</td>\n",
       "      <td>0.613075</td>\n",
       "      <td>0.704776</td>\n",
       "      <td>0.583660</td>\n",
       "      <td>44</td>\n",
       "      <td>0.714286</td>\n",
       "      <td>0.698653</td>\n",
       "      <td>0.723485</td>\n",
       "      <td>0.699123</td>\n",
       "    </tr>\n",
       "    <tr>\n",
       "      <th>7</th>\n",
       "      <td>19</td>\n",
       "      <td>0.557823</td>\n",
       "      <td>0.507576</td>\n",
       "      <td>0.777397</td>\n",
       "      <td>0.371754</td>\n",
       "      <td>33</td>\n",
       "      <td>0.591837</td>\n",
       "      <td>0.559484</td>\n",
       "      <td>0.601081</td>\n",
       "      <td>0.525398</td>\n",
       "      <td>45</td>\n",
       "      <td>0.578231</td>\n",
       "      <td>0.530303</td>\n",
       "      <td>0.783217</td>\n",
       "      <td>0.418750</td>\n",
       "    </tr>\n",
       "    <tr>\n",
       "      <th>8</th>\n",
       "      <td>20</td>\n",
       "      <td>0.585034</td>\n",
       "      <td>0.540685</td>\n",
       "      <td>0.675121</td>\n",
       "      <td>0.454064</td>\n",
       "      <td>34</td>\n",
       "      <td>0.646259</td>\n",
       "      <td>0.607464</td>\n",
       "      <td>0.774094</td>\n",
       "      <td>0.560285</td>\n",
       "      <td>46</td>\n",
       "      <td>0.571429</td>\n",
       "      <td>0.524130</td>\n",
       "      <td>0.681690</td>\n",
       "      <td>0.415082</td>\n",
       "    </tr>\n",
       "    <tr>\n",
       "      <th>9</th>\n",
       "      <td>21</td>\n",
       "      <td>0.557823</td>\n",
       "      <td>0.510382</td>\n",
       "      <td>0.578169</td>\n",
       "      <td>0.396514</td>\n",
       "      <td>35</td>\n",
       "      <td>0.646259</td>\n",
       "      <td>0.608866</td>\n",
       "      <td>0.750646</td>\n",
       "      <td>0.566667</td>\n",
       "      <td>47</td>\n",
       "      <td>0.551020</td>\n",
       "      <td>0.501403</td>\n",
       "      <td>0.525862</td>\n",
       "      <td>0.368688</td>\n",
       "    </tr>\n",
       "    <tr>\n",
       "      <th>10</th>\n",
       "      <td>22</td>\n",
       "      <td>0.625850</td>\n",
       "      <td>0.583333</td>\n",
       "      <td>0.797794</td>\n",
       "      <td>0.516129</td>\n",
       "      <td>36</td>\n",
       "      <td>0.659864</td>\n",
       "      <td>0.622615</td>\n",
       "      <td>0.782300</td>\n",
       "      <td>0.583333</td>\n",
       "      <td>48</td>\n",
       "      <td>0.625850</td>\n",
       "      <td>0.588945</td>\n",
       "      <td>0.695518</td>\n",
       "      <td>0.544892</td>\n",
       "    </tr>\n",
       "    <tr>\n",
       "      <th>11</th>\n",
       "      <td>24</td>\n",
       "      <td>0.585034</td>\n",
       "      <td>0.542088</td>\n",
       "      <td>0.650401</td>\n",
       "      <td>0.463343</td>\n",
       "      <td>37</td>\n",
       "      <td>0.639456</td>\n",
       "      <td>0.606902</td>\n",
       "      <td>0.687377</td>\n",
       "      <td>0.578249</td>\n",
       "      <td>49</td>\n",
       "      <td>0.585034</td>\n",
       "      <td>0.537879</td>\n",
       "      <td>0.785211</td>\n",
       "      <td>0.433651</td>\n",
       "    </tr>\n",
       "    <tr>\n",
       "      <th>12</th>\n",
       "      <td>25</td>\n",
       "      <td>0.530612</td>\n",
       "      <td>0.505331</td>\n",
       "      <td>0.507002</td>\n",
       "      <td>0.484420</td>\n",
       "      <td>38</td>\n",
       "      <td>0.673469</td>\n",
       "      <td>0.640572</td>\n",
       "      <td>0.754573</td>\n",
       "      <td>0.615686</td>\n",
       "      <td>50</td>\n",
       "      <td>0.564626</td>\n",
       "      <td>0.516554</td>\n",
       "      <td>0.654720</td>\n",
       "      <td>0.400000</td>\n",
       "    </tr>\n",
       "    <tr>\n",
       "      <th>13</th>\n",
       "      <td>26</td>\n",
       "      <td>0.557823</td>\n",
       "      <td>0.507576</td>\n",
       "      <td>0.777397</td>\n",
       "      <td>0.371754</td>\n",
       "      <td>39</td>\n",
       "      <td>0.646259</td>\n",
       "      <td>0.607464</td>\n",
       "      <td>0.774094</td>\n",
       "      <td>0.560285</td>\n",
       "      <td>51</td>\n",
       "      <td>0.632653</td>\n",
       "      <td>0.592312</td>\n",
       "      <td>0.765038</td>\n",
       "      <td>0.536332</td>\n",
       "    </tr>\n",
       "    <tr>\n",
       "      <th>14</th>\n",
       "      <td>42</td>\n",
       "      <td>0.625850</td>\n",
       "      <td>0.586139</td>\n",
       "      <td>0.732576</td>\n",
       "      <td>0.531386</td>\n",
       "      <td>41</td>\n",
       "      <td>0.619048</td>\n",
       "      <td>0.586981</td>\n",
       "      <td>0.647807</td>\n",
       "      <td>0.557038</td>\n",
       "      <td>52</td>\n",
       "      <td>0.585034</td>\n",
       "      <td>0.539282</td>\n",
       "      <td>0.714286</td>\n",
       "      <td>0.444183</td>\n",
       "    </tr>\n",
       "  </tbody>\n",
       "</table>\n",
       "</div>"
      ],
      "text/plain": [
       "   ID_MAY  ACURACCY_MAY  PRECISION_MAY  RECALL_MAY    F1_MAY ID_DISC  \\\n",
       "0       2      0.571429       0.522727    0.781250  0.403478      12   \n",
       "1      13      0.578231       0.530303    0.783217  0.418750      27   \n",
       "2      14      0.680272       0.650954    0.735827  0.634541      28   \n",
       "3      15      0.768707       0.750842    0.795896  0.753063      29   \n",
       "4      16      0.700680       0.675084    0.743623  0.666598      30   \n",
       "5      17      0.612245       0.572391    0.695455  0.514345      31   \n",
       "6      18      0.578231       0.530303    0.783217  0.418750      32   \n",
       "7      19      0.557823       0.507576    0.777397  0.371754      33   \n",
       "8      20      0.585034       0.540685    0.675121  0.454064      34   \n",
       "9      21      0.557823       0.510382    0.578169  0.396514      35   \n",
       "10     22      0.625850       0.583333    0.797794  0.516129      36   \n",
       "11     24      0.585034       0.542088    0.650401  0.463343      37   \n",
       "12     25      0.530612       0.505331    0.507002  0.484420      38   \n",
       "13     26      0.557823       0.507576    0.777397  0.371754      39   \n",
       "14     42      0.625850       0.586139    0.732576  0.531386      41   \n",
       "\n",
       "    ACURACCY_DISC  PRECISION_DISC  RECALL_DIC    F1_DIC ID_CTR  ACURACCY_CTR  \\\n",
       "0        0.564626        0.516554    0.654720  0.400000      4      0.564626   \n",
       "1        0.632653        0.592312    0.765038  0.536332      5      0.598639   \n",
       "2        0.598639        0.554433    0.734300  0.471963      6      0.591837   \n",
       "3        0.591837        0.548260    0.688321  0.467648      7      0.585034   \n",
       "4        0.612245        0.572391    0.695455  0.514345     11      0.591837   \n",
       "5        0.585034        0.556117    0.583426  0.530745     43      0.557823   \n",
       "6        0.646259        0.613075    0.704776  0.583660     44      0.714286   \n",
       "7        0.591837        0.559484    0.601081  0.525398     45      0.578231   \n",
       "8        0.646259        0.607464    0.774094  0.560285     46      0.571429   \n",
       "9        0.646259        0.608866    0.750646  0.566667     47      0.551020   \n",
       "10       0.659864        0.622615    0.782300  0.583333     48      0.625850   \n",
       "11       0.639456        0.606902    0.687377  0.578249     49      0.585034   \n",
       "12       0.673469        0.640572    0.754573  0.615686     50      0.564626   \n",
       "13       0.646259        0.607464    0.774094  0.560285     51      0.632653   \n",
       "14       0.619048        0.586981    0.647807  0.557038     52      0.585034   \n",
       "\n",
       "    PRECISION_CTR  RECALL_CTR    F1_CTR  \n",
       "0        0.519360    0.593076  0.422113  \n",
       "1        0.554433    0.734300  0.471963  \n",
       "2        0.546857    0.725270  0.458231  \n",
       "3        0.539282    0.714286  0.444183  \n",
       "4        0.546857    0.725270  0.458231  \n",
       "5        0.507576    0.777397  0.371754  \n",
       "6        0.698653    0.723485  0.699123  \n",
       "7        0.530303    0.783217  0.418750  \n",
       "8        0.524130    0.681690  0.415082  \n",
       "9        0.501403    0.525862  0.368688  \n",
       "10       0.588945    0.695518  0.544892  \n",
       "11       0.537879    0.785211  0.433651  \n",
       "12       0.516554    0.654720  0.400000  \n",
       "13       0.592312    0.765038  0.536332  \n",
       "14       0.539282    0.714286  0.444183  "
      ]
     },
     "execution_count": 26,
     "metadata": {},
     "output_type": "execute_result"
    }
   ],
   "source": [
    "df_listametricstodos"
   ]
  },
  {
   "cell_type": "code",
   "execution_count": 28,
   "metadata": {},
   "outputs": [
    {
     "data": {
      "image/png": "[encoded data removed]",
      "text/plain": [
       "<Figure size 1440x1008 with 1 Axes>"
      ]
     },
     "metadata": {},
     "output_type": "display_data"
    },
    {
     "data": {
      "text/html": [
       "<div>\n",
       "<style scoped>\n",
       "    .dataframe tbody tr th:only-of-type {\n",
       "        vertical-align: middle;\n",
       "    }\n",
       "\n",
       "    .dataframe tbody tr th {\n",
       "        vertical-align: top;\n",
       "    }\n",
       "\n",
       "    .dataframe thead th {\n",
       "        text-align: right;\n",
       "    }\n",
       "</style>\n",
       "<table border=\"1\" class=\"dataframe\">\n",
       "  <thead>\n",
       "    <tr style=\"text-align: right;\">\n",
       "      <th></th>\n",
       "      <th>PRECISION_MAY</th>\n",
       "      <th>PRECISION_DISC</th>\n",
       "      <th>PRECISION_CTR</th>\n",
       "    </tr>\n",
       "  </thead>\n",
       "  <tbody>\n",
       "    <tr>\n",
       "      <th>count</th>\n",
       "      <td>15.000000</td>\n",
       "      <td>15.000000</td>\n",
       "      <td>15.000000</td>\n",
       "    </tr>\n",
       "    <tr>\n",
       "      <th>mean</th>\n",
       "      <td>0.567714</td>\n",
       "      <td>0.586233</td>\n",
       "      <td>0.549588</td>\n",
       "    </tr>\n",
       "    <tr>\n",
       "      <th>std</th>\n",
       "      <td>0.072319</td>\n",
       "      <td>0.033804</td>\n",
       "      <td>0.048620</td>\n",
       "    </tr>\n",
       "    <tr>\n",
       "      <th>min</th>\n",
       "      <td>0.505331</td>\n",
       "      <td>0.516554</td>\n",
       "      <td>0.501403</td>\n",
       "    </tr>\n",
       "    <tr>\n",
       "      <th>25%</th>\n",
       "      <td>0.516554</td>\n",
       "      <td>0.557800</td>\n",
       "      <td>0.521745</td>\n",
       "    </tr>\n",
       "    <tr>\n",
       "      <th>50%</th>\n",
       "      <td>0.540685</td>\n",
       "      <td>0.592312</td>\n",
       "      <td>0.539282</td>\n",
       "    </tr>\n",
       "    <tr>\n",
       "      <th>75%</th>\n",
       "      <td>0.584736</td>\n",
       "      <td>0.608165</td>\n",
       "      <td>0.550645</td>\n",
       "    </tr>\n",
       "    <tr>\n",
       "      <th>max</th>\n",
       "      <td>0.750842</td>\n",
       "      <td>0.640572</td>\n",
       "      <td>0.698653</td>\n",
       "    </tr>\n",
       "  </tbody>\n",
       "</table>\n",
       "</div>"
      ],
      "text/plain": [
       "       PRECISION_MAY  PRECISION_DISC  PRECISION_CTR\n",
       "count      15.000000       15.000000      15.000000\n",
       "mean        0.567714        0.586233       0.549588\n",
       "std         0.072319        0.033804       0.048620\n",
       "min         0.505331        0.516554       0.501403\n",
       "25%         0.516554        0.557800       0.521745\n",
       "50%         0.540685        0.592312       0.539282\n",
       "75%         0.584736        0.608165       0.550645\n",
       "max         0.750842        0.640572       0.698653"
      ]
     },
     "execution_count": 28,
     "metadata": {},
     "output_type": "execute_result"
    }
   ],
   "source": [
    "dfTODOS = pd.DataFrame(data=df_listametricstodos, columns=[\"PRECISION_MAY\",\"PRECISION_DISC\",\"PRECISION_CTR\"])\n",
    "plt.figure(figsize=(20,14))\n",
    "sb.set(font_scale=2)\n",
    "sb.set_style(\"white\")\n",
    "boxplot = sb.boxplot(x=\"variable\", y=\"value\", data=pd.melt(dfTODOS),showmeans=True, meanprops={\"marker\":\"o\",\n",
    "                       \"markerfacecolor\":\"white\", \n",
    "                       \"markeredgecolor\":\"black\",\n",
    "                      \"markersize\":\"10\"})\n",
    "boxplot = sb.stripplot(x=\"variable\", y=\"value\", data=pd.melt(dfTODOS), marker=\"o\", alpha=0.7, color=\"black\", order=[\"PRECISION_MAY\",\"PRECISION_DISC\",\"PRECISION_CTR\"])\n",
    "#boxplot.axes.set_title(\"METRICS BETWEEN GROUPS\", fontsize=30)\n",
    "boxplot.set_xlabel(\"Precision\", fontsize=30)\n",
    "boxplot.set_ylabel(\"Score\", fontsize=30)\n",
    "plt.xticks([0, 1,2], ['GROUP 1', 'GROUP 2','GROUP 3'])\n",
    "\n",
    "plt.show()\n",
    "\n",
    "dfTODOS.describe()"
   ]
  },
  {
   "cell_type": "code",
   "execution_count": 29,
   "metadata": {
    "scrolled": false
   },
   "outputs": [
    {
     "data": {
      "image/png": "[encoded data removed]",
      "text/plain": [
       "<Figure size 1440x1008 with 1 Axes>"
      ]
     },
     "metadata": {},
     "output_type": "display_data"
    },
    {
     "data": {
      "text/html": [
       "<div>\n",
       "<style scoped>\n",
       "    .dataframe tbody tr th:only-of-type {\n",
       "        vertical-align: middle;\n",
       "    }\n",
       "\n",
       "    .dataframe tbody tr th {\n",
       "        vertical-align: top;\n",
       "    }\n",
       "\n",
       "    .dataframe thead th {\n",
       "        text-align: right;\n",
       "    }\n",
       "</style>\n",
       "<table border=\"1\" class=\"dataframe\">\n",
       "  <thead>\n",
       "    <tr style=\"text-align: right;\">\n",
       "      <th></th>\n",
       "      <th>RECALL_MAY</th>\n",
       "      <th>RECALL_DIC</th>\n",
       "      <th>RECALL_CTR</th>\n",
       "    </tr>\n",
       "  </thead>\n",
       "  <tbody>\n",
       "    <tr>\n",
       "      <th>count</th>\n",
       "      <td>15.000000</td>\n",
       "      <td>15.000000</td>\n",
       "      <td>15.000000</td>\n",
       "    </tr>\n",
       "    <tr>\n",
       "      <th>mean</th>\n",
       "      <td>0.720956</td>\n",
       "      <td>0.706534</td>\n",
       "      <td>0.706575</td>\n",
       "    </tr>\n",
       "    <tr>\n",
       "      <th>std</th>\n",
       "      <td>0.086207</td>\n",
       "      <td>0.063556</td>\n",
       "      <td>0.071381</td>\n",
       "    </tr>\n",
       "    <tr>\n",
       "      <th>min</th>\n",
       "      <td>0.507002</td>\n",
       "      <td>0.583426</td>\n",
       "      <td>0.525862</td>\n",
       "    </tr>\n",
       "    <tr>\n",
       "      <th>25%</th>\n",
       "      <td>0.685288</td>\n",
       "      <td>0.671049</td>\n",
       "      <td>0.688604</td>\n",
       "    </tr>\n",
       "    <tr>\n",
       "      <th>50%</th>\n",
       "      <td>0.743623</td>\n",
       "      <td>0.704776</td>\n",
       "      <td>0.723485</td>\n",
       "    </tr>\n",
       "    <tr>\n",
       "      <th>75%</th>\n",
       "      <td>0.782233</td>\n",
       "      <td>0.759805</td>\n",
       "      <td>0.749669</td>\n",
       "    </tr>\n",
       "    <tr>\n",
       "      <th>max</th>\n",
       "      <td>0.797794</td>\n",
       "      <td>0.782300</td>\n",
       "      <td>0.785211</td>\n",
       "    </tr>\n",
       "  </tbody>\n",
       "</table>\n",
       "</div>"
      ],
      "text/plain": [
       "       RECALL_MAY  RECALL_DIC  RECALL_CTR\n",
       "count   15.000000   15.000000   15.000000\n",
       "mean     0.720956    0.706534    0.706575\n",
       "std      0.086207    0.063556    0.071381\n",
       "min      0.507002    0.583426    0.525862\n",
       "25%      0.685288    0.671049    0.688604\n",
       "50%      0.743623    0.704776    0.723485\n",
       "75%      0.782233    0.759805    0.749669\n",
       "max      0.797794    0.782300    0.785211"
      ]
     },
     "execution_count": 29,
     "metadata": {},
     "output_type": "execute_result"
    }
   ],
   "source": [
    "dfTODOS = pd.DataFrame(data=df_listametricstodos, columns=[\"RECALL_MAY\",\"RECALL_DIC\",\"RECALL_CTR\"])\n",
    "plt.figure(figsize=(20,14))\n",
    "sb.set(font_scale=2)\n",
    "sb.set_style(\"white\")\n",
    "boxplot = sb.boxplot(x=\"variable\", y=\"value\", data=pd.melt(dfTODOS),showmeans=True, meanprops={\"marker\":\"o\",\n",
    "                       \"markerfacecolor\":\"white\", \n",
    "                       \"markeredgecolor\":\"black\",\n",
    "                      \"markersize\":\"10\"})\n",
    "boxplot = sb.stripplot(x=\"variable\", y=\"value\", data=pd.melt(dfTODOS), marker=\"o\", alpha=0.7, color=\"black\", order=[\"RECALL_MAY\",\"RECALL_DIC\",\"RECALL_CTR\"])\n",
    "#boxplot.axes.set_title(\"METRICS BETWEEN GROUPS\", fontsize=30)\n",
    "boxplot.set_xlabel(\"Recall\", fontsize=30)\n",
    "boxplot.set_ylabel(\"Score\", fontsize=30)\n",
    "plt.xticks([0, 1,2], ['GROUP 1', 'GROUP 2','GROUP 3'])\n",
    "\n",
    "plt.show()\n",
    "\n",
    "dfTODOS.describe()"
   ]
  },
  {
   "cell_type": "code",
   "execution_count": 243,
   "metadata": {},
   "outputs": [],
   "source": [
    "listapalabrasdetectadas=list()\n",
    "for user in nlistausuariosmay:\n",
    "    numpalabrascomplejas=0\n",
    "    for items in listatask1:\n",
    "        if str(user)==items[0]:\n",
    "            if items[2]!='0':\n",
    "                numpalabrascomplejas+=(len(items)-2)\n",
    "    listapalabrasdetectadas.append([user,numpalabrascomplejas])\n",
    "    \n",
    "for user in nlistausuariosdic:\n",
    "    numpalabrascomplejas=0\n",
    "    for items in listatask1:\n",
    "        if str(user)==items[0]:\n",
    "            if items[2]!='0':\n",
    "                numpalabrascomplejas+=(len(items)-2)\n",
    "    listapalabrasdetectadas.append([user,numpalabrascomplejas])  \n",
    "    \n",
    "for user in nlistausuariosctr:\n",
    "    numpalabrascomplejas=0\n",
    "    for items in listatask1:\n",
    "        if str(user)==items[0]:\n",
    "            if items[2]!='0':\n",
    "                numpalabrascomplejas+=(len(items)-2)\n",
    "    listapalabrasdetectadas.append([user,numpalabrascomplejas]) \n",
    "    "
   ]
  },
  {
   "cell_type": "code",
   "execution_count": 245,
   "metadata": {},
   "outputs": [],
   "source": [
    "for i in range(len(listapalabrasdetectadas)):\n",
    "    for element in demographic:\n",
    "        if str(listapalabrasdetectadas[i][0])==element[0]:\n",
    "            listapalabrasdetectadas[i].append(element[1])\n",
    "            listapalabrasdetectadas[i].append(element[2])\n",
    "            listapalabrasdetectadas[i].append(element[3])\n",
    "            listapalabrasdetectadas[i].append(element[4])\n",
    "            listapalabrasdetectadas[i].append(element[5])"
   ]
  },
  {
   "cell_type": "code",
   "execution_count": 247,
   "metadata": {},
   "outputs": [],
   "source": [
    "df=pd.DataFrame(listapalabrasdetectadas)\n",
    "df=df.rename(columns={0:\"ID\",1:'PALABRAS',2:'GENERO',3:'EDAD',4:'ESTUDIOS',5:'LECTURA',6:'ESTADO'})"
   ]
  },
  {
   "cell_type": "code",
   "execution_count": 249,
   "metadata": {},
   "outputs": [],
   "source": [
    "dfnew=(df\n",
    "       .groupby('PALABRAS')\n",
    "       .ESTADO\n",
    "       .value_counts()\n",
    "       .unstack()\n",
    "       .fillna(0)\n",
    ")"
   ]
  },
  {
   "cell_type": "code",
   "execution_count": 254,
   "metadata": {},
   "outputs": [
    {
     "data": {
      "image/png": "[encoded data removed]",
      "text/plain": [
       "<Figure size 1080x576 with 2 Axes>"
      ]
     },
     "metadata": {},
     "output_type": "display_data"
    }
   ],
   "source": [
    "#25 discapacidad ###+1\n",
    "#26 mayores\n",
    "sb.set(font_scale=1)\n",
    "X_axis=['GROUP 1','GROUP 2','GROUP 3']\n",
    "heat_map = sb.heatmap(dfnew,xticklabels=X_axis,cmap='Blues',annot=False)\n",
    "plt.xlabel(\"POBLATION\")\n",
    "plt.ylabel(\"NUMBER OF DETECTED COMPLEX WORDS\")\n",
    "plt.ylim(0,25)\n",
    "plt.gcf().set_size_inches(15, 8)\n",
    "plt.show()"
   ]
  },
  {
   "cell_type": "markdown",
   "metadata": {},
   "source": [
    "# 4. SIGNIFICANCE TESTS"
   ]
  },
  {
   "cell_type": "markdown",
   "metadata": {},
   "source": [
    "## 4.1 PRECISION"
   ]
  },
  {
   "cell_type": "code",
   "execution_count": 255,
   "metadata": {},
   "outputs": [
    {
     "name": "stdout",
     "output_type": "stream",
     "text": [
      "    MAYORES  DISCAPACIDAD   CONTROL\n",
      "0  0.781250      0.654720  0.593076\n",
      "1  0.783217      0.765038  0.734300\n",
      "2  0.735827      0.734300  0.725270\n",
      "3  0.795896      0.688321  0.714286\n",
      "4  0.743623      0.695455  0.725270\n"
     ]
    }
   ],
   "source": [
    "import pandas as pd\n",
    "import numpy as np\n",
    "import random\n",
    "from numpy.random import seed\n",
    "from numpy.random import randn\n",
    "from scipy.stats import ttest_ind\n",
    "from scipy.stats import t\n",
    "seed(1)\n",
    "df=pd.DataFrame(data=listastudent, columns=[\"MAYORES\",\"DISCAPACIDAD\",\"CONTROL\"],dtype=float)\n",
    "print(df.head())"
   ]
  },
  {
   "cell_type": "markdown",
   "metadata": {},
   "source": [
    "### NORMALITY TEST"
   ]
  },
  {
   "cell_type": "code",
   "execution_count": 123,
   "metadata": {},
   "outputs": [],
   "source": [
    "listapoblacion=list()\n",
    "for i in range(len(listametricsDISC)):\n",
    "    listapoblacion.append([listametricsMAY[i][1][1]])\n",
    "    listapoblacion.append([listametricsDISC[i][1][1]])\n",
    "    listapoblacion.append([listametricsCTR[i][1][1]])"
   ]
  },
  {
   "cell_type": "code",
   "execution_count": 128,
   "metadata": {},
   "outputs": [
    {
     "name": "stdout",
     "output_type": "stream",
     "text": [
      "Estadístico = [7.01436845], p-value = [0.02998122]\n"
     ]
    }
   ],
   "source": [
    "from scipy.stats import ttest_ind\n",
    "from scipy.stats import t\n",
    "from scipy import stats\n",
    "peso=listapoblacion\n",
    "k2, p_value = stats.normaltest(peso)\n",
    "print(f\"Estadístico = {k2}, p-value = {p_value}\")"
   ]
  },
  {
   "cell_type": "markdown",
   "metadata": {},
   "source": [
    "# WILCOXON"
   ]
  },
  {
   "cell_type": "code",
   "execution_count": 170,
   "metadata": {},
   "outputs": [],
   "source": [
    "group1may=list()\n",
    "group2disc=list()\n",
    "group3ctr=list()\n",
    "for i in range(len(listametricsDISC)):\n",
    "    group1may.append(listametricsMAY[i][1][1])\n",
    "    group2disc.append(listametricsDISC[i][1][1])\n",
    "    group3ctr.append(listametricsCTR[i][1][1])"
   ]
  },
  {
   "cell_type": "code",
   "execution_count": 172,
   "metadata": {},
   "outputs": [
    {
     "data": {
      "text/plain": [
       "RanksumsResult(statistic=3.6708089993457054, pvalue=0.0002417839738742544)"
      ]
     },
     "execution_count": 172,
     "metadata": {},
     "output_type": "execute_result"
    }
   ],
   "source": [
    "from scipy.stats import ranksums\n",
    "ranksums(group1may, group2disc)"
   ]
  },
  {
   "cell_type": "code",
   "execution_count": 173,
   "metadata": {},
   "outputs": [
    {
     "data": {
      "text/plain": [
       "RanksumsResult(statistic=2.986420880823625, pvalue=0.0028226386759533724)"
      ]
     },
     "execution_count": 173,
     "metadata": {},
     "output_type": "execute_result"
    }
   ],
   "source": [
    "ranksums(group2disc, group3ctr)"
   ]
  },
  {
   "cell_type": "code",
   "execution_count": 174,
   "metadata": {},
   "outputs": [
    {
     "data": {
      "text/plain": [
       "RanksumsResult(statistic=3.8367212705025735, pvalue=0.0001246878527628908)"
      ]
     },
     "execution_count": 174,
     "metadata": {},
     "output_type": "execute_result"
    }
   ],
   "source": [
    "ranksums(group1may, group3ctr)"
   ]
  },
  {
   "cell_type": "markdown",
   "metadata": {},
   "source": [
    "# SHAPIRO"
   ]
  },
  {
   "cell_type": "code",
   "execution_count": 177,
   "metadata": {},
   "outputs": [
    {
     "data": {
      "text/plain": [
       "(0.8226397633552551, 0.007286062464118004)"
      ]
     },
     "execution_count": 177,
     "metadata": {},
     "output_type": "execute_result"
    }
   ],
   "source": [
    "from scipy.stats import shapiro\n",
    "shapiro(group1may)"
   ]
  },
  {
   "cell_type": "code",
   "execution_count": 178,
   "metadata": {},
   "outputs": [
    {
     "data": {
      "text/plain": [
       "(0.9524756669998169, 0.5642532110214233)"
      ]
     },
     "execution_count": 178,
     "metadata": {},
     "output_type": "execute_result"
    }
   ],
   "source": [
    "shapiro(group2disc)"
   ]
  },
  {
   "cell_type": "code",
   "execution_count": 179,
   "metadata": {},
   "outputs": [
    {
     "data": {
      "text/plain": [
       "(0.7622686624526978, 0.0012545352801680565)"
      ]
     },
     "execution_count": 179,
     "metadata": {},
     "output_type": "execute_result"
    }
   ],
   "source": [
    "shapiro(group3ctr)"
   ]
  },
  {
   "cell_type": "markdown",
   "metadata": {},
   "source": [
    "# KRUSKAL"
   ]
  },
  {
   "cell_type": "code",
   "execution_count": 175,
   "metadata": {},
   "outputs": [
    {
     "data": {
      "text/plain": [
       "KruskalResult(statistic=23.236787063889622, pvalue=8.999032090200104e-06)"
      ]
     },
     "execution_count": 175,
     "metadata": {},
     "output_type": "execute_result"
    }
   ],
   "source": [
    "stats.kruskal(group1may, group2disc, group3ctr)"
   ]
  },
  {
   "cell_type": "markdown",
   "metadata": {},
   "source": [
    "# --- EDUCATION LEVEL (OLDER PEOPLE)"
   ]
  },
  {
   "cell_type": "code",
   "execution_count": 145,
   "metadata": {},
   "outputs": [],
   "source": [
    "listametricsmayores=list()\n",
    "for i in range(len(listametrics)):\n",
    "    if listametrics[i][0] in nlistausuariosmay:\n",
    "        listametricsmayores.append([listametrics[i][0],listametrics[i][1][0],listametrics[i][1][1],listametrics[i][1][2],listametrics[i][1][3],demographic[i][1],demographic[i][2],demographic[i][3],demographic[i][4]])"
   ]
  },
  {
   "cell_type": "code",
   "execution_count": 148,
   "metadata": {},
   "outputs": [],
   "source": [
    "group0=list()\n",
    "group1=list()\n",
    "group2=list()\n",
    "group3=list()\n",
    "for elements in listametricsmayores:\n",
    "    if elements[7]=='0':\n",
    "        group0.append(elements[2])\n",
    "    if elements[7]=='1':\n",
    "        group1.append(elements[2])\n",
    "    if elements[7]=='2':\n",
    "        group2.append(elements[2])\n",
    "    if elements[7]=='3':\n",
    "        group3.append(elements[2])"
   ]
  },
  {
   "cell_type": "code",
   "execution_count": 149,
   "metadata": {},
   "outputs": [
    {
     "data": {
      "text/plain": [
       "KruskalResult(statistic=3.1847072879331, pvalue=0.36401425062382203)"
      ]
     },
     "execution_count": 149,
     "metadata": {},
     "output_type": "execute_result"
    }
   ],
   "source": [
    "from scipy import stats\n",
    "\n",
    "#perform Kruskal-Wallis Test \n",
    "stats.kruskal(group0, group1, group2, group3)"
   ]
  },
  {
   "cell_type": "markdown",
   "metadata": {},
   "source": [
    "# --READING EXPERIENCE (OLDER PEOPLE)"
   ]
  },
  {
   "cell_type": "code",
   "execution_count": 155,
   "metadata": {},
   "outputs": [],
   "source": [
    "group0=list()\n",
    "group1=list()\n",
    "group2=list()\n",
    "group3=list()\n",
    "group4=list()\n",
    "for elements in listametricsmayores:\n",
    "    if elements[8]=='0':\n",
    "        group0.append(elements[2])\n",
    "    if elements[8]=='1':\n",
    "        group1.append(elements[2])\n",
    "    if elements[8]=='2':\n",
    "        group2.append(elements[2])\n",
    "    if elements[8]=='3':\n",
    "        group3.append(elements[2])\n",
    "    if elements[8]=='4':\n",
    "        group4.append(elements[2])"
   ]
  },
  {
   "cell_type": "code",
   "execution_count": 156,
   "metadata": {},
   "outputs": [
    {
     "data": {
      "text/plain": [
       "KruskalResult(statistic=1.9921146953405082, pvalue=0.7372092993135891)"
      ]
     },
     "execution_count": 156,
     "metadata": {},
     "output_type": "execute_result"
    }
   ],
   "source": [
    "stats.kruskal(group0, group1, group2, group3,group4)"
   ]
  },
  {
   "cell_type": "markdown",
   "metadata": {},
   "source": [
    "# 4.2 RECALL"
   ]
  },
  {
   "cell_type": "code",
   "execution_count": 182,
   "metadata": {},
   "outputs": [],
   "source": [
    "listapoblacionrc=list()\n",
    "for i in range(len(listametricsDISC)):\n",
    "    listapoblacionrc.append([listametricsMAY[i][1][2]])\n",
    "    listapoblacionrc.append([listametricsDISC[i][1][2]])\n",
    "    listapoblacionrc.append([listametricsCTR[i][1][2]])"
   ]
  },
  {
   "cell_type": "code",
   "execution_count": 184,
   "metadata": {},
   "outputs": [
    {
     "name": "stdout",
     "output_type": "stream",
     "text": [
      "Estadístico = [16.49078078], p-value = [0.00026247]\n"
     ]
    }
   ],
   "source": [
    "from scipy.stats import ttest_ind\n",
    "from scipy.stats import t\n",
    "from scipy import stats\n",
    "peso=listapoblacionrc\n",
    "k2, p_value = stats.normaltest(peso)\n",
    "print(f\"Estadístico = {k2}, p-value = {p_value}\")"
   ]
  },
  {
   "cell_type": "markdown",
   "metadata": {},
   "source": [
    "## WILCOXON"
   ]
  },
  {
   "cell_type": "code",
   "execution_count": 185,
   "metadata": {},
   "outputs": [],
   "source": [
    "group1may=list()\n",
    "group2disc=list()\n",
    "group3ctr=list()\n",
    "for i in range(len(listametricsDISC)):\n",
    "    group1may.append(listametricsMAY[i][1][2])\n",
    "    group2disc.append(listametricsDISC[i][1][2])\n",
    "    group3ctr.append(listametricsCTR[i][1][2])"
   ]
  },
  {
   "cell_type": "code",
   "execution_count": 186,
   "metadata": {},
   "outputs": [
    {
     "data": {
      "text/plain": [
       "RanksumsResult(statistic=-3.9196774060810076, pvalue=8.866757266712497e-05)"
      ]
     },
     "execution_count": 186,
     "metadata": {},
     "output_type": "execute_result"
    }
   ],
   "source": [
    "ranksums(group1may, group2disc)"
   ]
  },
  {
   "cell_type": "code",
   "execution_count": 187,
   "metadata": {},
   "outputs": [
    {
     "data": {
      "text/plain": [
       "RanksumsResult(statistic=-0.29034647452451906, pvalue=0.7715511878155722)"
      ]
     },
     "execution_count": 187,
     "metadata": {},
     "output_type": "execute_result"
    }
   ],
   "source": [
    "ranksums(group2disc, group3ctr)"
   ]
  },
  {
   "cell_type": "code",
   "execution_count": 188,
   "metadata": {},
   "outputs": [
    {
     "data": {
      "text/plain": [
       "RanksumsResult(statistic=-3.7122870671349224, pvalue=0.00020539483890082976)"
      ]
     },
     "execution_count": 188,
     "metadata": {},
     "output_type": "execute_result"
    }
   ],
   "source": [
    "ranksums(group1may, group3ctr)"
   ]
  },
  {
   "cell_type": "markdown",
   "metadata": {},
   "source": [
    "## KRUSKAL"
   ]
  },
  {
   "cell_type": "code",
   "execution_count": 189,
   "metadata": {},
   "outputs": [
    {
     "data": {
      "text/plain": [
       "KruskalResult(statistic=19.652675982072246, pvalue=5.401018105928768e-05)"
      ]
     },
     "execution_count": 189,
     "metadata": {},
     "output_type": "execute_result"
    }
   ],
   "source": [
    "stats.kruskal(group1may, group2disc, group3ctr)"
   ]
  },
  {
   "cell_type": "markdown",
   "metadata": {},
   "source": [
    "# --- EDUCATION LEVEL (OLDER PEOPLE)"
   ]
  },
  {
   "cell_type": "code",
   "execution_count": 193,
   "metadata": {},
   "outputs": [],
   "source": [
    "group0=list()\n",
    "group1=list()\n",
    "group2=list()\n",
    "group3=list()\n",
    "for elements in listametricsmayores:\n",
    "    if elements[7]=='0':\n",
    "        group0.append(elements[3])\n",
    "    if elements[7]=='1':\n",
    "        group1.append(elements[3])\n",
    "    if elements[7]=='2':\n",
    "        group2.append(elements[3])\n",
    "    if elements[7]=='3':\n",
    "        group3.append(elements[3])"
   ]
  },
  {
   "cell_type": "code",
   "execution_count": 194,
   "metadata": {},
   "outputs": [
    {
     "data": {
      "text/plain": [
       "KruskalResult(statistic=2.100836320191166, pvalue=0.5517435885983357)"
      ]
     },
     "execution_count": 194,
     "metadata": {},
     "output_type": "execute_result"
    }
   ],
   "source": [
    "stats.kruskal(group0, group1, group2, group3)"
   ]
  },
  {
   "cell_type": "markdown",
   "metadata": {},
   "source": [
    "# -- READING EXPERIENCE (OLDER PEOPLE)"
   ]
  },
  {
   "cell_type": "code",
   "execution_count": 195,
   "metadata": {},
   "outputs": [],
   "source": [
    "group0=list()\n",
    "group1=list()\n",
    "group2=list()\n",
    "group3=list()\n",
    "group4=list()\n",
    "for elements in listametricsmayores:\n",
    "    if elements[8]=='0':\n",
    "        group0.append(elements[3])\n",
    "    if elements[8]=='1':\n",
    "        group1.append(elements[3])\n",
    "    if elements[8]=='2':\n",
    "        group2.append(elements[3])\n",
    "    if elements[8]=='3':\n",
    "        group3.append(elements[3])\n",
    "    if elements[8]=='4':\n",
    "        group4.append(elements[3])"
   ]
  },
  {
   "cell_type": "code",
   "execution_count": 196,
   "metadata": {},
   "outputs": [
    {
     "data": {
      "text/plain": [
       "KruskalResult(statistic=6.091537895511403, pvalue=0.1072406516354224)"
      ]
     },
     "execution_count": 196,
     "metadata": {},
     "output_type": "execute_result"
    }
   ],
   "source": [
    "stats.kruskal(group0, group1, group2, group3)"
   ]
  }
 ],
 "metadata": {
  "kernelspec": {
   "display_name": "Python 3",
   "language": "python",
   "name": "python3"
  },
  "language_info": {
   "codemirror_mode": {
    "name": "ipython",
    "version": 3
   },
   "file_extension": ".py",
   "mimetype": "text/x-python",
   "name": "python",
   "nbconvert_exporter": "python",
   "pygments_lexer": "ipython3",
   "version": "3.6.3"
  }
 },
 "nbformat": 4,
 "nbformat_minor": 2
}
