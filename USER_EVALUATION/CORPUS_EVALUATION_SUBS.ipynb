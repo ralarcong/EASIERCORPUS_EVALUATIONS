{
 "cells": [
  {
   "cell_type": "code",
   "execution_count": 1,
   "metadata": {},
   "outputs": [],
   "source": [
    "import csv\n",
    "import spacy\n",
    "import numpy as np\n",
    "nlp=spacy.load('es_core_news_md')\n",
    "pathgold_task2='GOLD/GOLD_SUBS.csv'\n",
    "pathdemograph='CORPUS_DEMOGRAPH_EVAL.csv'\n",
    "pathtask2='CORPUS_SUBS_EVAL.csv'"
   ]
  },
  {
   "cell_type": "code",
   "execution_count": 2,
   "metadata": {},
   "outputs": [],
   "source": [
    "def procesartasks(path):\n",
    "    tsvin = open(path, \"rt\")\n",
    "    tsvin = csv.reader(tsvin, delimiter=';')\n",
    "    listatask1=list()\n",
    "    for row in tsvin:\n",
    "        listatemp=list()\n",
    "        for element in row:\n",
    "            if element != '':\n",
    "                listatemp.append(element)\n",
    "        listatask1.append(listatemp)\n",
    "                \n",
    "    return listatask1 "
   ]
  },
  {
   "cell_type": "code",
   "execution_count": 25,
   "metadata": {},
   "outputs": [],
   "source": [
    "demographic=procesartasks(pathdemograph)\n",
    "listatask2=procesartasks(pathtask2)\n",
    "listagoldtask2=procesartasks(pathgold_task2)"
   ]
  },
  {
   "cell_type": "code",
   "execution_count": 26,
   "metadata": {},
   "outputs": [],
   "source": [
    "listausuarios=list()\n",
    "listausuariosmay=list()\n",
    "listausuariosdic=list()\n",
    "listausuariosctr=list()\n",
    "for row in demographic:\n",
    "    listausuarios.append([row[0],row[5]])\n",
    "    if row[5]=='0':\n",
    "        listausuariosmay.append(row[0])\n",
    "    if row[5]=='1':\n",
    "        listausuariosdic.append(row[0])\n",
    "    if row[5]=='2':\n",
    "        listausuariosctr.append(row[0])"
   ]
  },
  {
   "cell_type": "code",
   "execution_count": 33,
   "metadata": {},
   "outputs": [],
   "source": [
    "dicmay=dict()\n",
    "dicdisc=dict()\n",
    "dicctr=dict()\n",
    "for row in listatask2:   \n",
    "    if row[0] in listausuariosmay:\n",
    "        dicmay[row[0]]=0\n",
    "    if row[0] in listausuariosdic:\n",
    "        dicdisc[row[0]]=0\n",
    "    if row[0] in listausuariosctr:\n",
    "        dicctr[row[0]]=0"
   ]
  },
  {
   "cell_type": "code",
   "execution_count": 34,
   "metadata": {},
   "outputs": [],
   "source": [
    "nlistausuariosmay=list()\n",
    "nlistausuariosdic=list()\n",
    "nlistausuariosctr=list()\n",
    "nlistausuariosmay=dicmay.keys()\n",
    "nlistausuariosdic=dicdisc.keys()\n",
    "nlistausuariosctr=dicctr.keys()"
   ]
  },
  {
   "cell_type": "code",
   "execution_count": 35,
   "metadata": {},
   "outputs": [
    {
     "data": {
      "text/plain": [
       "dict_keys(['4', '5', '6', '7', '11', '43', '44', '45', '46', '47', '48', '49', '50', '51', '52'])"
      ]
     },
     "execution_count": 35,
     "metadata": {},
     "output_type": "execute_result"
    }
   ],
   "source": [
    "nlistausuariosctr"
   ]
  },
  {
   "cell_type": "code",
   "execution_count": 36,
   "metadata": {},
   "outputs": [
    {
     "data": {
      "text/plain": [
       "dict_keys(['12', '27', '28', '29', '30', '31', '32', '33', '34', '35', '36', '37', '38', '39', '41'])"
      ]
     },
     "execution_count": 36,
     "metadata": {},
     "output_type": "execute_result"
    }
   ],
   "source": [
    "nlistausuariosdic"
   ]
  },
  {
   "cell_type": "code",
   "execution_count": 37,
   "metadata": {},
   "outputs": [
    {
     "data": {
      "text/plain": [
       "dict_keys(['2', '13', '14', '15', '16', '17', '18', '19', '20', '21', '22', '24', '25', '26', '42'])"
      ]
     },
     "execution_count": 37,
     "metadata": {},
     "output_type": "execute_result"
    }
   ],
   "source": [
    "nlistausuariosmay"
   ]
  },
  {
   "cell_type": "code",
   "execution_count": 208,
   "metadata": {},
   "outputs": [],
   "source": [
    "def evaluarscoresporsinónimoGRAFv2(listatask2v2):\n",
    "    temporalMAY1=0\n",
    "    temporalMAY2=0\n",
    "    temporalMAY3=0\n",
    "    temporalDISC1=0\n",
    "    temporalDISC2=0\n",
    "    temporalDISC3=0\n",
    "    temporalCTR1=0\n",
    "    temporalCTR2=0\n",
    "    temporalCTR3=0\n",
    "    lista=list()\n",
    "    for cont in range(16):\n",
    "        temporalMAY1=0\n",
    "        temporalMAY2=0\n",
    "        temporalMAY3=0\n",
    "        temporalDISC1=0\n",
    "        temporalDISC2=0\n",
    "        temporalDISC3=0\n",
    "        temporalCTR1=0\n",
    "        temporalCTR2=0\n",
    "        temporalCTR3=0\n",
    "        for row in listatask2v2:\n",
    "            usuario=row[0][0]\n",
    "            if usuario in nlistausuariosmay:\n",
    "                if row[1]==cont:\n",
    "                    score1=row[0][1]\n",
    "                    score2=row[0][2]\n",
    "                    score3=row[0][3]\n",
    "                    if score1=='1' or score2=='1'or score3=='1':\n",
    "                        temporalMAY1+=1\n",
    "            if usuario in nlistausuariosdic:\n",
    "                if row[1]==cont:\n",
    "                    score1=row[0][1]\n",
    "                    score2=row[0][2]\n",
    "                    score3=row[0][3]\n",
    "                    if score1=='1'or score2=='1' or score3=='1':\n",
    "                        temporalDISC1+=1\n",
    "            if usuario in nlistausuariosctr:\n",
    "                if row[1]==cont:\n",
    "                    score1=row[0][1]\n",
    "                    score2=row[0][2]\n",
    "                    score3=row[0][3]\n",
    "                    if score1=='1'or score2=='1'or score3=='1':\n",
    "                        temporalCTR1+=1\n",
    "                \n",
    "        lista.append([temporalMAY1,temporalDISC1,temporalCTR1])\n",
    "   \n",
    "    return lista"
   ]
  },
  {
   "cell_type": "markdown",
   "metadata": {},
   "source": [
    "### AT LEAST ONE CANDIDATE RATED AS CORRECT"
   ]
  },
  {
   "cell_type": "code",
   "execution_count": 210,
   "metadata": {},
   "outputs": [
    {
     "data": {
      "text/plain": [
       "[0, 0, 0]"
      ]
     },
     "execution_count": 210,
     "metadata": {},
     "output_type": "execute_result"
    }
   ],
   "source": [
    "#NUMERO DE USUARIOS DONDE AL MENOS UNA VEZ CALIFICARON COMO ADECUADO UN REEMPLAZO POR ORACIÓN / PRIMERA COLUMNA =mayores, SEGUNDA COLUMNA= discapacidad, TERCERA COLUMNA = control\n",
    "listausuarioscontador=evaluarscoresporsinónimoGRAFv2(listatask2v2)\n",
    "listausuarioscontador.pop(0)"
   ]
  },
  {
   "cell_type": "code",
   "execution_count": 211,
   "metadata": {},
   "outputs": [
    {
     "data": {
      "text/plain": [
       "[[15, 15, 15],\n",
       " [15, 15, 14],\n",
       " [15, 15, 14],\n",
       " [15, 15, 15],\n",
       " [14, 15, 14],\n",
       " [15, 15, 15],\n",
       " [14, 15, 14],\n",
       " [14, 15, 13],\n",
       " [15, 14, 14],\n",
       " [15, 15, 15],\n",
       " [15, 14, 14],\n",
       " [15, 15, 15],\n",
       " [14, 15, 14],\n",
       " [15, 15, 13],\n",
       " [15, 14, 14]]"
      ]
     },
     "execution_count": 211,
     "metadata": {},
     "output_type": "execute_result"
    }
   ],
   "source": [
    "listausuarioscontador"
   ]
  },
  {
   "cell_type": "code",
   "execution_count": 212,
   "metadata": {},
   "outputs": [],
   "source": [
    "def evaluarscoresporsinónimoGRAFv4(listatask2v2):\n",
    "    temporalMAY1=0\n",
    "    temporalMAY2=0\n",
    "    temporalMAY3=0\n",
    "    temporalDISC1=0\n",
    "    temporalDISC2=0\n",
    "    temporalDISC3=0\n",
    "    temporalCTR1=0\n",
    "    temporalCTR2=0\n",
    "    temporalCTR3=0\n",
    "    lista=list()\n",
    "    for cont in range(16):\n",
    "        temporalMAY1=0\n",
    "        temporalMAY2=0\n",
    "        temporalMAY3=0\n",
    "        temporalDISC1=0\n",
    "        temporalDISC2=0\n",
    "        temporalDISC3=0\n",
    "        temporalCTR1=0\n",
    "        temporalCTR2=0\n",
    "        temporalCTR3=0\n",
    "        for row in listatask2v2:\n",
    "            usuario=row[0][0]\n",
    "            if usuario in nlistausuariosmay:\n",
    "                if row[1]==cont:\n",
    "                    score1=row[0][1]\n",
    "                    score2=row[0][2]\n",
    "                    score3=row[0][3]\n",
    "                    if (int(score1)+int(score2)+int(score3))>=2:\n",
    "                        temporalMAY1+=1\n",
    "            if usuario in nlistausuariosdic:\n",
    "                if row[1]==cont:\n",
    "                    score1=row[0][1]\n",
    "                    score2=row[0][2]\n",
    "                    score3=row[0][3]\n",
    "                    if (int(score1)+int(score2)+int(score3))>=2:\n",
    "                        temporalDISC1+=1\n",
    "            if usuario in nlistausuariosctr:\n",
    "                if row[1]==cont:\n",
    "                    score1=row[0][1]\n",
    "                    score2=row[0][2]\n",
    "                    score3=row[0][3]\n",
    "                    if (int(score1)+int(score2)+int(score3))>=2:\n",
    "                        temporalCTR1+=1\n",
    "                \n",
    "        lista.append([temporalMAY1,temporalDISC1,temporalCTR1])\n",
    "   \n",
    "    return lista"
   ]
  },
  {
   "cell_type": "markdown",
   "metadata": {},
   "source": [
    "### AT LEAST TWO CANDIDATES RATED AS CORRECT"
   ]
  },
  {
   "cell_type": "code",
   "execution_count": 213,
   "metadata": {},
   "outputs": [
    {
     "data": {
      "text/plain": [
       "[0, 0, 0]"
      ]
     },
     "execution_count": 213,
     "metadata": {},
     "output_type": "execute_result"
    }
   ],
   "source": [
    "#NUMERO DE USUARIOS DONDE SE CALIFICARON COMO ADECUADO A DOS REEMPLAZOS POR ORACIÓN / PRIMERA COLUMNA =mayores, SEGUNDA COLUMNA= discapacidad, TERCERA COLUMNA = control\n",
    "listausuarioscontador3=evaluarscoresporsinónimoGRAFv4(listatask2v2)\n",
    "listausuarioscontador3.pop(0)"
   ]
  },
  {
   "cell_type": "code",
   "execution_count": 214,
   "metadata": {},
   "outputs": [
    {
     "data": {
      "text/plain": [
       "[[11, 12, 13],\n",
       " [8, 10, 7],\n",
       " [10, 9, 9],\n",
       " [12, 10, 12],\n",
       " [12, 11, 10],\n",
       " [11, 11, 14],\n",
       " [10, 11, 10],\n",
       " [10, 11, 5],\n",
       " [11, 10, 11],\n",
       " [13, 12, 11],\n",
       " [12, 11, 13],\n",
       " [12, 11, 13],\n",
       " [10, 10, 7],\n",
       " [9, 11, 8],\n",
       " [11, 6, 9]]"
      ]
     },
     "execution_count": 214,
     "metadata": {},
     "output_type": "execute_result"
    }
   ],
   "source": [
    "listausuarioscontador3"
   ]
  },
  {
   "cell_type": "code",
   "execution_count": 320,
   "metadata": {},
   "outputs": [],
   "source": [
    "def evaluarscoresporsinónimoGRAFv3(listatask2v2):\n",
    "    temporalMAY1=0\n",
    "    temporalMAY2=0\n",
    "    temporalMAY3=0\n",
    "    temporalDISC1=0\n",
    "    temporalDISC2=0\n",
    "    temporalDISC3=0\n",
    "    temporalCTR1=0\n",
    "    temporalCTR2=0\n",
    "    temporalCTR3=0\n",
    "    lista=list()\n",
    "    for cont in range(16):\n",
    "        temporalMAY1=0\n",
    "        temporalMAY2=0\n",
    "        temporalMAY3=0\n",
    "        temporalDISC1=0\n",
    "        temporalDISC2=0\n",
    "        temporalDISC3=0\n",
    "        temporalCTR1=0\n",
    "        temporalCTR2=0\n",
    "        temporalCTR3=0\n",
    "        for row in listatask2v2:\n",
    "            usuario=row[0][0]\n",
    "            if usuario in nlistausuariosmay:\n",
    "                if row[1]==cont:\n",
    "                    score1=row[0][1]\n",
    "                    score2=row[0][2]\n",
    "                    score3=row[0][3]\n",
    "                    if score1=='1' and score2=='1'and score3=='1':\n",
    "                        temporalMAY1+=1\n",
    "            if usuario in nlistausuariosdic:\n",
    "                if row[1]==cont:\n",
    "                    score1=row[0][1]\n",
    "                    score2=row[0][2]\n",
    "                    score3=row[0][3]\n",
    "                    if score1=='1'and score2=='1' and score3=='1':\n",
    "                        temporalDISC1+=1\n",
    "            if usuario in nlistausuariosctr:\n",
    "                if row[1]==cont:\n",
    "                    score1=row[0][1]\n",
    "                    score2=row[0][2]\n",
    "                    score3=row[0][3]\n",
    "                    if score1=='1'and score2=='1'and score3=='1':\n",
    "                        temporalCTR1+=1\n",
    "                \n",
    "        lista.append([temporalMAY1,temporalDISC1,temporalCTR1])\n",
    "   \n",
    "    return lista"
   ]
  },
  {
   "cell_type": "markdown",
   "metadata": {},
   "source": [
    "### ALL CANDIDATES RATED AS CORRECT"
   ]
  },
  {
   "cell_type": "code",
   "execution_count": 321,
   "metadata": {},
   "outputs": [
    {
     "data": {
      "text/plain": [
       "[0, 0, 0]"
      ]
     },
     "execution_count": 321,
     "metadata": {},
     "output_type": "execute_result"
    }
   ],
   "source": [
    "#NUMERO DE USUARIOS DONDE SE CALIFICARON COMO ADECUADO A TODOS LOS REEMPLAZOS POR ORACIÓN / PRIMERA COLUMNA =mayores, SEGUNDA COLUMNA= discapacidad, TERCERA COLUMNA = control\n",
    "listausuarioscontador2=evaluarscoresporsinónimoGRAFv3(listatask2v2)\n",
    "listausuarioscontador2.pop(0)"
   ]
  },
  {
   "cell_type": "code",
   "execution_count": 322,
   "metadata": {
    "scrolled": true
   },
   "outputs": [
    {
     "data": {
      "text/plain": [
       "[[7, 9, 5],\n",
       " [7, 7, 3],\n",
       " [8, 8, 4],\n",
       " [8, 7, 8],\n",
       " [8, 10, 5],\n",
       " [11, 9, 9],\n",
       " [8, 7, 2],\n",
       " [7, 8, 2],\n",
       " [8, 7, 5],\n",
       " [10, 10, 5],\n",
       " [10, 8, 6],\n",
       " [10, 9, 7],\n",
       " [9, 8, 4],\n",
       " [9, 5, 4],\n",
       " [9, 5, 3]]"
      ]
     },
     "execution_count": 322,
     "metadata": {},
     "output_type": "execute_result"
    }
   ],
   "source": [
    "listausuarioscontador2"
   ]
  },
  {
   "cell_type": "markdown",
   "metadata": {},
   "source": [
    "### PLOTTING DIFFERENT FIGURES"
   ]
  },
  {
   "cell_type": "code",
   "execution_count": 325,
   "metadata": {},
   "outputs": [],
   "source": [
    "listasynv2=list()\n",
    "for item in listasyn:\n",
    "    if item[1]=='1' or item[2]=='1' or item[3]=='1':\n",
    "        listasynv2.append([item[0],'1',item[4],item[5],item[6],item[7],item[8]])\n",
    "    else:\n",
    "        listasynv2.append([item[0],'0',item[4],item[5],item[6],item[7],item[8]])"
   ]
  },
  {
   "cell_type": "code",
   "execution_count": 328,
   "metadata": {},
   "outputs": [],
   "source": [
    "import pandas as pd\n",
    "import seaborn as sb\n",
    "import matplotlib.pyplot as plt\n",
    "df=pd.DataFrame(listasynv2)\n",
    "df=df.rename(columns={0:\"ID\",1:'CANDIDATOS',2:'GENERO',3:'EDAD',4:'ESTUDIOS',5:'LECTURA',6:'ESTADO'})"
   ]
  },
  {
   "cell_type": "code",
   "execution_count": 329,
   "metadata": {},
   "outputs": [],
   "source": [
    "dfnew=(df\n",
    "       .groupby(['ESTUDIOS','CANDIDATOS'])\n",
    "       .ESTADO\n",
    "       .value_counts()\n",
    "       .unstack()\n",
    "       .fillna(0)\n",
    ")"
   ]
  },
  {
   "cell_type": "code",
   "execution_count": 330,
   "metadata": {
    "scrolled": false
   },
   "outputs": [
    {
     "data": {
      "image/png": "[encoded data removed]",
      "text/plain": [
       "<Figure size 1080x576 with 2 Axes>"
      ]
     },
     "metadata": {
      "needs_background": "light"
     },
     "output_type": "display_data"
    }
   ],
   "source": [
    "X_axis=['GROUP 1','GROUP 2','GROUP 3']\n",
    "Y_axis=['None/Incorrect','None/Correct','Primary/Incorrect','Primary/Correct','HSchool/Incorrect','HSchool/Correct','University/Incorrect','University/Correct']\n",
    "heat_map = sb.heatmap(dfnew,xticklabels=X_axis,yticklabels=Y_axis,cmap='Blues',fmt='.0f',annot=True)\n",
    "plt.xlabel(\"POBLATION\")\n",
    "plt.ylabel(\"Nº INSTANCES WHERE AT LEAST ONE REPLACEMENT IS CORRECT\")\n",
    "plt.ylim(0,8)\n",
    "plt.gcf().set_size_inches(15, 8)\n",
    "plt.show()"
   ]
  },
  {
   "cell_type": "markdown",
   "metadata": {},
   "source": [
    "# SIGNIFICANCE TESTS"
   ]
  },
  {
   "cell_type": "markdown",
   "metadata": {},
   "source": [
    "## FISHER TEST"
   ]
  },
  {
   "cell_type": "code",
   "execution_count": 223,
   "metadata": {},
   "outputs": [],
   "source": [
    "listausuariosm=list(nlistausuariosmay)\n",
    "listausuariosd=list(nlistausuariosdic)\n",
    "listausuariosc=list(nlistausuariosctr)"
   ]
  },
  {
   "cell_type": "code",
   "execution_count": 280,
   "metadata": {},
   "outputs": [],
   "source": [
    "listausuarios=listausuariosm+listausuariosd+listausuariosc"
   ]
  },
  {
   "cell_type": "code",
   "execution_count": 283,
   "metadata": {},
   "outputs": [],
   "source": [
    "listasyn=list()\n",
    "for user in listausuarios:\n",
    "    for items in listatask2:\n",
    "        if str(user)==items[0]:\n",
    "            listasyn.append([user,items[1],items[2],items[3]])"
   ]
  },
  {
   "cell_type": "code",
   "execution_count": 286,
   "metadata": {},
   "outputs": [],
   "source": [
    "for i in range(len(listasyn)):\n",
    "    for j in range (len(demographic)):\n",
    "        if str(listasyn[i][0])==demographic[j][0]:\n",
    "            listasyn[i].append(demographic[j][1])\n",
    "            listasyn[i].append(demographic[j][2])\n",
    "            listasyn[i].append(demographic[j][3])\n",
    "            listasyn[i].append(demographic[j][4])\n",
    "            listasyn[i].append(demographic[j][5])"
   ]
  },
  {
   "cell_type": "code",
   "execution_count": 287,
   "metadata": {},
   "outputs": [],
   "source": [
    "def fisherlist(temporallist):\n",
    "    listafishersyn2=list()\n",
    "    #print(listaestudios)\n",
    "    for item in temporallist:\n",
    "        if(item[1]=='1' or item[2]=='1' or item[3]=='1'):\n",
    "            listafishersyn2.append([item[0],'1',item[8]])\n",
    "        else:\n",
    "            listafishersyn2.append([item[0],'0',item[8]])\n",
    "    return listafishersyn2"
   ]
  },
  {
   "cell_type": "code",
   "execution_count": 288,
   "metadata": {},
   "outputs": [],
   "source": [
    "listafisher=list()\n",
    "listafisher=fisherlist(listasyn)"
   ]
  },
  {
   "cell_type": "code",
   "execution_count": 289,
   "metadata": {},
   "outputs": [
    {
     "data": {
      "text/plain": [
       "675"
      ]
     },
     "execution_count": 289,
     "metadata": {},
     "output_type": "execute_result"
    }
   ],
   "source": [
    "len(listafisher)"
   ]
  },
  {
   "cell_type": "code",
   "execution_count": 298,
   "metadata": {},
   "outputs": [],
   "source": [
    "contadoraprobar1=0\n",
    "contadordenegar1=0\n",
    "contadoraprobar2=0\n",
    "contadordenegar2=0\n",
    "contadoraprobar3=0\n",
    "contadordenegar3=0\n",
    "fishersimplificado=list()\n",
    "for element in listafisher:\n",
    "    if element[1]=='1' and element[2]=='0':\n",
    "        contadoraprobar1+=1\n",
    "    elif element[1]=='0' and element[2]=='0':\n",
    "        contadordenegar1+=1\n",
    "    elif element[1]=='1' and element[2]=='1':\n",
    "        contadoraprobar2+=1\n",
    "    elif element[1]=='0' and element[2]=='1':\n",
    "        contadordenegar2+=1\n",
    "    elif element[1]=='1' and element[2]=='2':\n",
    "        contadoraprobar3+=1\n",
    "    elif element[1]=='0' and element[2]=='2':\n",
    "        contadordenegar3+=1\n",
    "        \n",
    "    else:\n",
    "        print(element)\n",
    "#fishersimplificado.append([contadoraprobar1,contadordenegar1])  \n",
    "fishersimplificado.append([contadoraprobar2,contadordenegar2])\n",
    "fishersimplificado.append([contadoraprobar3,contadordenegar3])"
   ]
  },
  {
   "cell_type": "code",
   "execution_count": 299,
   "metadata": {},
   "outputs": [],
   "source": [
    "arrfisher = np.array(fishersimplificado)"
   ]
  },
  {
   "cell_type": "code",
   "execution_count": 300,
   "metadata": {},
   "outputs": [
    {
     "data": {
      "text/plain": [
       "array([[222,   3],\n",
       "       [213,  12]])"
      ]
     },
     "execution_count": 300,
     "metadata": {},
     "output_type": "execute_result"
    }
   ],
   "source": [
    "arrfisher"
   ]
  },
  {
   "cell_type": "code",
   "execution_count": 293,
   "metadata": {},
   "outputs": [
    {
     "name": "stdout",
     "output_type": "stream",
     "text": [
      "(0.7466216216216216, 1.0)\n"
     ]
    }
   ],
   "source": [
    "import scipy.stats as stats\n",
    "#older and people with int disabilities\n",
    "print(stats.fisher_exact(arrfisher))"
   ]
  },
  {
   "cell_type": "code",
   "execution_count": 297,
   "metadata": {},
   "outputs": [
    {
     "name": "stdout",
     "output_type": "stream",
     "text": [
      "(3.112676056338028, 0.07163617230922947)\n"
     ]
    }
   ],
   "source": [
    "import scipy.stats as stats\n",
    "#older and control\n",
    "print(stats.fisher_exact(arrfisher))"
   ]
  },
  {
   "cell_type": "code",
   "execution_count": 324,
   "metadata": {
    "scrolled": true
   },
   "outputs": [
    {
     "name": "stdout",
     "output_type": "stream",
     "text": [
      "(4.169014084507042, 0.03222808388561305)\n"
     ]
    }
   ],
   "source": [
    "#people with int disabilities y control\n",
    "print(stats.fisher_exact(arrfisher))"
   ]
  },
  {
   "cell_type": "markdown",
   "metadata": {},
   "source": [
    "# KRUSKALL : Search for significance between all groups"
   ]
  },
  {
   "cell_type": "code",
   "execution_count": 302,
   "metadata": {},
   "outputs": [],
   "source": [
    "group1may=list()\n",
    "group2disc=list()\n",
    "group3ctr=list()\n",
    "for i in range(len(listafisher)):\n",
    "    if listafisher[i][2]=='0':\n",
    "        group1may.append(listafisher[i][1])\n",
    "    if listafisher[i][2]=='1':\n",
    "        group2disc.append(listafisher[i][1])\n",
    "    if listafisher[i][2]=='2':\n",
    "        group3ctr.append(listafisher[i][1])"
   ]
  },
  {
   "cell_type": "code",
   "execution_count": 303,
   "metadata": {},
   "outputs": [
    {
     "data": {
      "text/plain": [
       "KruskalResult(statistic=7.895057766366699, pvalue=0.019302341229829968)"
      ]
     },
     "execution_count": 303,
     "metadata": {},
     "output_type": "execute_result"
    }
   ],
   "source": [
    "stats.kruskal(group1may, group2disc, group3ctr)"
   ]
  },
  {
   "cell_type": "markdown",
   "metadata": {},
   "source": [
    "# --CHI CUADRADO (EDUCATION LEVEL: OLDER)"
   ]
  },
  {
   "cell_type": "code",
   "execution_count": 304,
   "metadata": {},
   "outputs": [],
   "source": [
    "listachicuadradodemographic=list()\n",
    "for element in listasyn:\n",
    "    if str(element[0]) not in nlistausuariosdic and str(element[0]) not in nlistausuariosctr:\n",
    "        listachicuadradodemographic.append(element)"
   ]
  },
  {
   "cell_type": "code",
   "execution_count": 131,
   "metadata": {
    "collapsed": true
   },
   "outputs": [
    {
     "data": {
      "text/plain": [
       "[['2', '0', '1', '0', '1', '70', '1', '2', '0'],\n",
       " ['2', '1', '0', '0', '1', '70', '1', '2', '0'],\n",
       " ['2', '0', '1', '0', '1', '70', '1', '2', '0'],\n",
       " ['2', '0', '0', '1', '1', '70', '1', '2', '0'],\n",
       " ['2', '1', '0', '0', '1', '70', '1', '2', '0'],\n",
       " ['2', '0', '1', '0', '1', '70', '1', '2', '0'],\n",
       " ['2', '0', '1', '0', '1', '70', '1', '2', '0'],\n",
       " ['2', '0', '1', '0', '1', '70', '1', '2', '0'],\n",
       " ['2', '0', '0', '1', '1', '70', '1', '2', '0'],\n",
       " ['2', '0', '1', '0', '1', '70', '1', '2', '0'],\n",
       " ['2', '1', '0', '0', '1', '70', '1', '2', '0'],\n",
       " ['2', '1', '0', '0', '1', '70', '1', '2', '0'],\n",
       " ['2', '1', '0', '0', '1', '70', '1', '2', '0'],\n",
       " ['2', '1', '0', '0', '1', '70', '1', '2', '0'],\n",
       " ['2', '0', '1', '0', '1', '70', '1', '2', '0'],\n",
       " ['13', '0', '1', '0', '0', '71', '2', '0', '0'],\n",
       " ['13', '1', '0', '0', '0', '71', '2', '0', '0'],\n",
       " ['13', '0', '0', '1', '0', '71', '2', '0', '0'],\n",
       " ['13', '0', '0', '1', '0', '71', '2', '0', '0'],\n",
       " ['13', '0', '1', '0', '0', '71', '2', '0', '0'],\n",
       " ['13', '0', '0', '1', '0', '71', '2', '0', '0'],\n",
       " ['13', '0', '0', '1', '0', '71', '2', '0', '0'],\n",
       " ['13', '0', '1', '0', '0', '71', '2', '0', '0'],\n",
       " ['13', '0', '0', '1', '0', '71', '2', '0', '0'],\n",
       " ['13', '0', '1', '0', '0', '71', '2', '0', '0'],\n",
       " ['13', '0', '1', '0', '0', '71', '2', '0', '0'],\n",
       " ['13', '0', '0', '1', '0', '71', '2', '0', '0'],\n",
       " ['13', '1', '0', '0', '0', '71', '2', '0', '0'],\n",
       " ['13', '1', '0', '0', '0', '71', '2', '0', '0'],\n",
       " ['13', '1', '0', '0', '0', '71', '2', '0', '0'],\n",
       " ['14', '1', '1', '0', '0', '76', '1', '0', '0'],\n",
       " ['14', '1', '0', '0', '0', '76', '1', '0', '0'],\n",
       " ['14', '0', '0', '1', '0', '76', '1', '0', '0'],\n",
       " ['14', '1', '0', '1', '0', '76', '1', '0', '0'],\n",
       " ['14', '1', '1', '1', '0', '76', '1', '0', '0'],\n",
       " ['14', '1', '1', '1', '0', '76', '1', '0', '0'],\n",
       " ['14', '1', '1', '0', '0', '76', '1', '0', '0'],\n",
       " ['14', '1', '1', '0', '0', '76', '1', '0', '0'],\n",
       " ['14', '1', '1', '1', '0', '76', '1', '0', '0'],\n",
       " ['14', '1', '1', '0', '0', '76', '1', '0', '0'],\n",
       " ['14', '0', '1', '1', '0', '76', '1', '0', '0'],\n",
       " ['14', '1', '1', '1', '0', '76', '1', '0', '0'],\n",
       " ['14', '1', '1', '0', '0', '76', '1', '0', '0'],\n",
       " ['14', '0', '0', '1', '0', '76', '1', '0', '0'],\n",
       " ['14', '0', '0', '1', '0', '76', '1', '0', '0'],\n",
       " ['15', '1', '0', '1', '1', '76', '0', '0', '0'],\n",
       " ['15', '0', '1', '0', '1', '76', '0', '0', '0'],\n",
       " ['15', '0', '0', '1', '1', '76', '0', '0', '0'],\n",
       " ['15', '1', '1', '1', '1', '76', '0', '0', '0'],\n",
       " ['15', '1', '0', '1', '1', '76', '0', '0', '0'],\n",
       " ['15', '1', '1', '1', '1', '76', '0', '0', '0'],\n",
       " ['15', '0', '1', '0', '1', '76', '0', '0', '0'],\n",
       " ['15', '1', '0', '0', '1', '76', '0', '0', '0'],\n",
       " ['15', '0', '1', '1', '1', '76', '0', '0', '0'],\n",
       " ['15', '1', '1', '1', '1', '76', '0', '0', '0'],\n",
       " ['15', '1', '1', '1', '1', '76', '0', '0', '0'],\n",
       " ['15', '1', '1', '1', '1', '76', '0', '0', '0'],\n",
       " ['15', '1', '1', '1', '1', '76', '0', '0', '0'],\n",
       " ['15', '0', '0', '1', '1', '76', '0', '0', '0'],\n",
       " ['15', '0', '0', '1', '1', '76', '0', '0', '0'],\n",
       " ['16', '1', '1', '0', '1', '70', '1', '2', '0'],\n",
       " ['16', '1', '1', '1', '1', '70', '1', '2', '0'],\n",
       " ['16', '1', '0', '1', '1', '70', '1', '2', '0'],\n",
       " ['16', '1', '0', '1', '1', '70', '1', '2', '0'],\n",
       " ['16', '1', '1', '1', '1', '70', '1', '2', '0'],\n",
       " ['16', '1', '1', '1', '1', '70', '1', '2', '0'],\n",
       " ['16', '1', '1', '1', '1', '70', '1', '2', '0'],\n",
       " ['16', '1', '1', '1', '1', '70', '1', '2', '0'],\n",
       " ['16', '0', '0', '1', '1', '70', '1', '2', '0'],\n",
       " ['16', '1', '1', '1', '1', '70', '1', '2', '0'],\n",
       " ['16', '1', '1', '1', '1', '70', '1', '2', '0'],\n",
       " ['16', '1', '1', '1', '1', '70', '1', '2', '0'],\n",
       " ['16', '1', '1', '1', '1', '70', '1', '2', '0'],\n",
       " ['16', '1', '1', '1', '1', '70', '1', '2', '0'],\n",
       " ['16', '1', '1', '1', '1', '70', '1', '2', '0'],\n",
       " ['17', '1', '1', '1', '0', '74', '2', '3', '0'],\n",
       " ['17', '1', '1', '1', '0', '74', '2', '3', '0'],\n",
       " ['17', '1', '1', '1', '0', '74', '2', '3', '0'],\n",
       " ['17', '1', '1', '1', '0', '74', '2', '3', '0'],\n",
       " ['17', '0', '0', '0', '0', '74', '2', '3', '0'],\n",
       " ['17', '1', '1', '1', '0', '74', '2', '3', '0'],\n",
       " ['17', '0', '0', '0', '0', '74', '2', '3', '0'],\n",
       " ['17', '0', '0', '0', '0', '74', '2', '3', '0'],\n",
       " ['17', '1', '1', '1', '0', '74', '2', '3', '0'],\n",
       " ['17', '1', '1', '1', '0', '74', '2', '3', '0'],\n",
       " ['17', '1', '1', '1', '0', '74', '2', '3', '0'],\n",
       " ['17', '1', '1', '1', '0', '74', '2', '3', '0'],\n",
       " ['17', '0', '0', '0', '0', '74', '2', '3', '0'],\n",
       " ['17', '1', '1', '1', '0', '74', '2', '3', '0'],\n",
       " ['17', '1', '1', '1', '0', '74', '2', '3', '0'],\n",
       " ['18', '0', '1', '0', '0', '66', '2', '1', '0'],\n",
       " ['18', '0', '1', '1', '0', '66', '2', '1', '0'],\n",
       " ['18', '1', '1', '1', '0', '66', '2', '1', '0'],\n",
       " ['18', '1', '0', '1', '0', '66', '2', '1', '0'],\n",
       " ['18', '1', '1', '1', '0', '66', '2', '1', '0'],\n",
       " ['18', '0', '0', '1', '0', '66', '2', '1', '0'],\n",
       " ['18', '1', '1', '1', '0', '66', '2', '1', '0'],\n",
       " ['18', '1', '0', '1', '0', '66', '2', '1', '0'],\n",
       " ['18', '1', '1', '0', '0', '66', '2', '1', '0'],\n",
       " ['18', '1', '1', '1', '0', '66', '2', '1', '0'],\n",
       " ['18', '1', '1', '1', '0', '66', '2', '1', '0'],\n",
       " ['18', '0', '1', '1', '0', '66', '2', '1', '0'],\n",
       " ['18', '1', '1', '1', '0', '66', '2', '1', '0'],\n",
       " ['18', '1', '1', '1', '0', '66', '2', '1', '0'],\n",
       " ['18', '1', '1', '1', '0', '66', '2', '1', '0'],\n",
       " ['19', '1', '1', '1', '1', '67', '2', '2', '0'],\n",
       " ['19', '1', '1', '1', '1', '67', '2', '2', '0'],\n",
       " ['19', '1', '1', '1', '1', '67', '2', '2', '0'],\n",
       " ['19', '1', '1', '1', '1', '67', '2', '2', '0'],\n",
       " ['19', '1', '1', '0', '1', '67', '2', '2', '0'],\n",
       " ['19', '1', '1', '1', '1', '67', '2', '2', '0'],\n",
       " ['19', '1', '1', '1', '1', '67', '2', '2', '0'],\n",
       " ['19', '1', '1', '1', '1', '67', '2', '2', '0'],\n",
       " ['19', '1', '1', '1', '1', '67', '2', '2', '0'],\n",
       " ['19', '1', '1', '1', '1', '67', '2', '2', '0'],\n",
       " ['19', '1', '1', '1', '1', '67', '2', '2', '0'],\n",
       " ['19', '1', '1', '1', '1', '67', '2', '2', '0'],\n",
       " ['19', '1', '1', '1', '1', '67', '2', '2', '0'],\n",
       " ['19', '1', '1', '1', '1', '67', '2', '2', '0'],\n",
       " ['19', '1', '1', '1', '1', '67', '2', '2', '0'],\n",
       " ['20', '1', '1', '1', '1', '65', '2', '2', '0'],\n",
       " ['20', '1', '1', '1', '1', '65', '2', '2', '0'],\n",
       " ['20', '1', '1', '1', '1', '65', '2', '2', '0'],\n",
       " ['20', '1', '1', '1', '1', '65', '2', '2', '0'],\n",
       " ['20', '1', '1', '1', '1', '65', '2', '2', '0'],\n",
       " ['20', '1', '1', '1', '1', '65', '2', '2', '0'],\n",
       " ['20', '1', '1', '1', '1', '65', '2', '2', '0'],\n",
       " ['20', '1', '1', '1', '1', '65', '2', '2', '0'],\n",
       " ['20', '1', '1', '1', '1', '65', '2', '2', '0'],\n",
       " ['20', '1', '1', '1', '1', '65', '2', '2', '0'],\n",
       " ['20', '1', '1', '1', '1', '65', '2', '2', '0'],\n",
       " ['20', '1', '1', '1', '1', '65', '2', '2', '0'],\n",
       " ['20', '1', '1', '1', '1', '65', '2', '2', '0'],\n",
       " ['20', '1', '1', '1', '1', '65', '2', '2', '0'],\n",
       " ['20', '1', '1', '1', '1', '65', '2', '2', '0'],\n",
       " ['21', '1', '1', '1', '0', '70', '1', '3', '0'],\n",
       " ['21', '0', '1', '0', '0', '70', '1', '3', '0'],\n",
       " ['21', '1', '0', '0', '0', '70', '1', '3', '0'],\n",
       " ['21', '0', '0', '1', '0', '70', '1', '3', '0'],\n",
       " ['21', '1', '0', '1', '0', '70', '1', '3', '0'],\n",
       " ['21', '0', '1', '0', '0', '70', '1', '3', '0'],\n",
       " ['21', '0', '1', '0', '0', '70', '1', '3', '0'],\n",
       " ['21', '1', '0', '1', '0', '70', '1', '3', '0'],\n",
       " ['21', '0', '1', '0', '0', '70', '1', '3', '0'],\n",
       " ['21', '0', '1', '1', '0', '70', '1', '3', '0'],\n",
       " ['21', '0', '1', '0', '0', '70', '1', '3', '0'],\n",
       " ['21', '0', '0', '1', '0', '70', '1', '3', '0'],\n",
       " ['21', '0', '0', '1', '0', '70', '1', '3', '0'],\n",
       " ['21', '1', '0', '0', '0', '70', '1', '3', '0'],\n",
       " ['21', '0', '1', '1', '0', '70', '1', '3', '0'],\n",
       " ['22', '1', '0', '0', '0', '72', '2', '1', '0'],\n",
       " ['22', '1', '0', '0', '0', '72', '2', '1', '0'],\n",
       " ['22', '1', '0', '1', '0', '72', '2', '1', '0'],\n",
       " ['22', '1', '0', '1', '0', '72', '2', '1', '0'],\n",
       " ['22', '1', '0', '1', '0', '72', '2', '1', '0'],\n",
       " ['22', '1', '1', '1', '0', '72', '2', '1', '0'],\n",
       " ['22', '1', '1', '0', '0', '72', '2', '1', '0'],\n",
       " ['22', '0', '0', '1', '0', '72', '2', '1', '0'],\n",
       " ['22', '0', '1', '1', '0', '72', '2', '1', '0'],\n",
       " ['22', '1', '1', '0', '0', '72', '2', '1', '0'],\n",
       " ['22', '0', '1', '1', '0', '72', '2', '1', '0'],\n",
       " ['22', '1', '1', '0', '0', '72', '2', '1', '0'],\n",
       " ['22', '1', '0', '0', '0', '72', '2', '1', '0'],\n",
       " ['22', '0', '1', '0', '0', '72', '2', '1', '0'],\n",
       " ['22', '1', '1', '0', '0', '72', '2', '1', '0'],\n",
       " ['24', '1', '1', '1', '1', '68', '2', '1', '0'],\n",
       " ['24', '1', '1', '1', '1', '68', '2', '1', '0'],\n",
       " ['24', '1', '1', '1', '1', '68', '2', '1', '0'],\n",
       " ['24', '1', '1', '1', '1', '68', '2', '1', '0'],\n",
       " ['24', '1', '1', '1', '1', '68', '2', '1', '0'],\n",
       " ['24', '1', '1', '1', '1', '68', '2', '1', '0'],\n",
       " ['24', '1', '1', '1', '1', '68', '2', '1', '0'],\n",
       " ['24', '1', '1', '1', '1', '68', '2', '1', '0'],\n",
       " ['24', '1', '1', '1', '1', '68', '2', '1', '0'],\n",
       " ['24', '1', '1', '1', '1', '68', '2', '1', '0'],\n",
       " ['24', '1', '1', '1', '1', '68', '2', '1', '0'],\n",
       " ['24', '1', '1', '1', '1', '68', '2', '1', '0'],\n",
       " ['24', '1', '1', '1', '1', '68', '2', '1', '0'],\n",
       " ['24', '1', '1', '1', '1', '68', '2', '1', '0'],\n",
       " ['24', '1', '1', '1', '1', '68', '2', '1', '0'],\n",
       " ['25', '1', '1', '1', '0', '74', '1', '1', '0'],\n",
       " ['25', '1', '1', '1', '0', '74', '1', '1', '0'],\n",
       " ['25', '1', '1', '1', '0', '74', '1', '1', '0'],\n",
       " ['25', '1', '1', '1', '0', '74', '1', '1', '0'],\n",
       " ['25', '1', '1', '1', '0', '74', '1', '1', '0'],\n",
       " ['25', '1', '1', '1', '0', '74', '1', '1', '0'],\n",
       " ['25', '1', '1', '1', '0', '74', '1', '1', '0'],\n",
       " ['25', '1', '1', '1', '0', '74', '1', '1', '0'],\n",
       " ['25', '1', '1', '1', '0', '74', '1', '1', '0'],\n",
       " ['25', '1', '1', '1', '0', '74', '1', '1', '0'],\n",
       " ['25', '1', '1', '1', '0', '74', '1', '1', '0'],\n",
       " ['25', '1', '1', '1', '0', '74', '1', '1', '0'],\n",
       " ['25', '1', '1', '1', '0', '74', '1', '1', '0'],\n",
       " ['25', '1', '1', '1', '0', '74', '1', '1', '0'],\n",
       " ['25', '1', '1', '1', '0', '74', '1', '1', '0'],\n",
       " ['26', '1', '1', '0', '1', '69', '2', '3', '0'],\n",
       " ['26', '1', '0', '0', '1', '69', '2', '3', '0'],\n",
       " ['26', '1', '1', '1', '1', '69', '2', '3', '0'],\n",
       " ['26', '1', '1', '1', '1', '69', '2', '3', '0'],\n",
       " ['26', '1', '1', '1', '1', '69', '2', '3', '0'],\n",
       " ['26', '1', '1', '1', '1', '69', '2', '3', '0'],\n",
       " ['26', '1', '1', '1', '1', '69', '2', '3', '0'],\n",
       " ['26', '1', '1', '1', '1', '69', '2', '3', '0'],\n",
       " ['26', '1', '1', '1', '1', '69', '2', '3', '0'],\n",
       " ['26', '1', '1', '1', '1', '69', '2', '3', '0'],\n",
       " ['26', '1', '1', '1', '1', '69', '2', '3', '0'],\n",
       " ['26', '1', '1', '1', '1', '69', '2', '3', '0'],\n",
       " ['26', '1', '1', '1', '1', '69', '2', '3', '0'],\n",
       " ['26', '1', '1', '1', '1', '69', '2', '3', '0'],\n",
       " ['26', '1', '1', '1', '1', '69', '2', '3', '0'],\n",
       " ['42', '1', '1', '1', '1', '75', '2', '1', '0'],\n",
       " ['42', '1', '1', '1', '1', '75', '2', '1', '0'],\n",
       " ['42', '1', '1', '1', '1', '75', '2', '1', '0'],\n",
       " ['42', '1', '1', '1', '1', '75', '2', '1', '0'],\n",
       " ['42', '1', '1', '1', '1', '75', '2', '1', '0'],\n",
       " ['42', '1', '1', '1', '1', '75', '2', '1', '0'],\n",
       " ['42', '1', '1', '1', '1', '75', '2', '1', '0'],\n",
       " ['42', '1', '1', '1', '1', '75', '2', '1', '0'],\n",
       " ['42', '1', '1', '1', '1', '75', '2', '1', '0'],\n",
       " ['42', '1', '1', '1', '1', '75', '2', '1', '0'],\n",
       " ['42', '1', '1', '1', '1', '75', '2', '1', '0'],\n",
       " ['42', '1', '1', '1', '1', '75', '2', '1', '0'],\n",
       " ['42', '1', '1', '1', '1', '75', '2', '1', '0'],\n",
       " ['42', '1', '1', '1', '1', '75', '2', '1', '0'],\n",
       " ['42', '1', '1', '1', '1', '75', '2', '1', '0']]"
      ]
     },
     "execution_count": 131,
     "metadata": {},
     "output_type": "execute_result"
    }
   ],
   "source": [
    "listachicuadradodemographic"
   ]
  },
  {
   "cell_type": "code",
   "execution_count": 305,
   "metadata": {},
   "outputs": [
    {
     "data": {
      "text/plain": [
       "225"
      ]
     },
     "execution_count": 305,
     "metadata": {},
     "output_type": "execute_result"
    }
   ],
   "source": [
    "len(listachicuadradodemographic)"
   ]
  },
  {
   "cell_type": "code",
   "execution_count": 307,
   "metadata": {},
   "outputs": [],
   "source": [
    "def chicuadradolist(temporallist):\n",
    "    listaestudiossyn=list()\n",
    "    listaestudios=list(range(0,4))\n",
    "    #print(listaestudios)\n",
    "    for element in listaestudios:\n",
    "        for item in temporallist:\n",
    "            if str(element)==item[6]:\n",
    "                if(item[1]=='1' or item[2]=='1'or item[3]=='1'):\n",
    "                    listaestudiossyn.append([item[0],element,'1'])\n",
    "                else:\n",
    "                    listaestudiossyn.append([item[0],element,'0'])\n",
    "    return listaestudiossyn"
   ]
  },
  {
   "cell_type": "code",
   "execution_count": 308,
   "metadata": {},
   "outputs": [],
   "source": [
    "listachicuadrado=list()\n",
    "listachicuadrado=chicuadradolist(listachicuadradodemographic)"
   ]
  },
  {
   "cell_type": "code",
   "execution_count": 309,
   "metadata": {},
   "outputs": [],
   "source": [
    "listaestudios=list(range(0,3))\n",
    "contadoraprobar=0\n",
    "contadordenegar=0\n",
    "listachicuadradosimplificado=list()\n",
    "for item in listaestudios:\n",
    "    contadoraprobar=0\n",
    "    contadordenegar=0\n",
    "    for element in listachicuadrado:\n",
    "        if item==element[1]:\n",
    "            if element[2]=='1':\n",
    "                contadoraprobar+=1\n",
    "            else:\n",
    "                contadordenegar+=1\n",
    "    listachicuadradosimplificado.append([contadoraprobar,contadordenegar])  "
   ]
  },
  {
   "cell_type": "code",
   "execution_count": 310,
   "metadata": {},
   "outputs": [
    {
     "data": {
      "text/plain": [
       "[[15, 0], [75, 0], [131, 4]]"
      ]
     },
     "execution_count": 310,
     "metadata": {},
     "output_type": "execute_result"
    }
   ],
   "source": [
    "listachicuadradosimplificado"
   ]
  },
  {
   "cell_type": "code",
   "execution_count": 311,
   "metadata": {},
   "outputs": [],
   "source": [
    "arrchicuadrado = np.array(listachicuadradosimplificado)"
   ]
  },
  {
   "cell_type": "code",
   "execution_count": 312,
   "metadata": {},
   "outputs": [
    {
     "name": "stdout",
     "output_type": "stream",
     "text": [
      "chisq-statistic=2.7149, p-value=0.2573, df=2 expected_frep=[[ 14.73333333   0.26666667]\n",
      " [ 73.66666667   1.33333333]\n",
      " [132.6          2.4       ]]\n"
     ]
    }
   ],
   "source": [
    "from  scipy.stats import chi2_contingency\n",
    "kf = chi2_contingency(arrchicuadrado)\n",
    "print('chisq-statistic=%.4f, p-value=%.4f, df=%i expected_frep=%s'%kf)"
   ]
  },
  {
   "cell_type": "markdown",
   "metadata": {},
   "source": [
    "# --CHI CUADRADO (READING EXPERIENCE: OLDER)"
   ]
  },
  {
   "cell_type": "code",
   "execution_count": 313,
   "metadata": {},
   "outputs": [],
   "source": [
    "def chicuadradolist(temporallist):\n",
    "    listaestudiossyn=list()\n",
    "    listaestudios=list(range(0,5))\n",
    "    #print(listaestudios)\n",
    "    for element in listaestudios:\n",
    "        for item in temporallist:\n",
    "            if str(element)==item[7]:\n",
    "                if(item[1]=='1' or item[2]=='1'or item[3]=='1'):\n",
    "                    listaestudiossyn.append([item[0],element,'1'])\n",
    "                else:\n",
    "                    listaestudiossyn.append([item[0],element,'0'])\n",
    "    return listaestudiossyn"
   ]
  },
  {
   "cell_type": "code",
   "execution_count": 314,
   "metadata": {},
   "outputs": [],
   "source": [
    "listachicuadrado=list()\n",
    "listachicuadrado=chicuadradolist(listachicuadradodemographic)"
   ]
  },
  {
   "cell_type": "code",
   "execution_count": 315,
   "metadata": {},
   "outputs": [],
   "source": [
    "listaestudios=list(range(0,4))\n",
    "contadoraprobar=0\n",
    "contadordenegar=0\n",
    "listachicuadradosimplificado=list()\n",
    "for item in listaestudios:\n",
    "    contadoraprobar=0\n",
    "    contadordenegar=0\n",
    "    for element in listachicuadrado:\n",
    "        if item==element[1]:\n",
    "            if element[2]=='1':\n",
    "                contadoraprobar+=1\n",
    "            else:\n",
    "                contadordenegar+=1\n",
    "    listachicuadradosimplificado.append([contadoraprobar,contadordenegar])  "
   ]
  },
  {
   "cell_type": "code",
   "execution_count": 316,
   "metadata": {},
   "outputs": [
    {
     "data": {
      "text/plain": [
       "[[45, 0], [75, 0], [60, 0], [41, 4]]"
      ]
     },
     "execution_count": 316,
     "metadata": {},
     "output_type": "execute_result"
    }
   ],
   "source": [
    "listachicuadradosimplificado"
   ]
  },
  {
   "cell_type": "code",
   "execution_count": 317,
   "metadata": {},
   "outputs": [],
   "source": [
    "arrchicuadrado = np.array(listachicuadradosimplificado)"
   ]
  },
  {
   "cell_type": "code",
   "execution_count": 318,
   "metadata": {},
   "outputs": [
    {
     "name": "stdout",
     "output_type": "stream",
     "text": [
      "chisq-statistic=16.2896, p-value=0.0010, df=3 expected_frep=[[44.2         0.8       ]\n",
      " [73.66666667  1.33333333]\n",
      " [58.93333333  1.06666667]\n",
      " [44.2         0.8       ]]\n"
     ]
    }
   ],
   "source": [
    "from  scipy.stats import chi2_contingency\n",
    "kf = chi2_contingency(arrchicuadrado)\n",
    "print('chisq-statistic=%.4f, p-value=%.4f, df=%i expected_frep=%s'%kf)"
   ]
  }
 ],
 "metadata": {
  "kernelspec": {
   "display_name": "Python 3",
   "language": "python",
   "name": "python3"
  },
  "language_info": {
   "codemirror_mode": {
    "name": "ipython",
    "version": 3
   },
   "file_extension": ".py",
   "mimetype": "text/x-python",
   "name": "python",
   "nbconvert_exporter": "python",
   "pygments_lexer": "ipython3",
   "version": "3.6.3"
  }
 },
 "nbformat": 4,
 "nbformat_minor": 2
}
