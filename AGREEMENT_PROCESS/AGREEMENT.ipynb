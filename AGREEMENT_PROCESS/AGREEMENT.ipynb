{
 "cells": [
  {
   "cell_type": "markdown",
   "metadata": {},
   "source": [
    "# AGREEMENT CALCULATIONS"
   ]
  },
  {
   "cell_type": "markdown",
   "metadata": {},
   "source": [
    "## COHEN"
   ]
  },
  {
   "cell_type": "code",
   "execution_count": 2,
   "metadata": {},
   "outputs": [],
   "source": [
    "from sklearn.metrics import cohen_kappa_score\n",
    "import csv\n",
    "import spacy\n",
    "import numpy as np\n",
    "nlp=spacy.load('es_core_news_md')"
   ]
  },
  {
   "cell_type": "markdown",
   "metadata": {},
   "source": [
    "## Main functions for matrix creation\n",
    "    To calculate uniwords modify the functions \"getnumexamples\" and \"getMatrix_train\" according to the required POS tags (e.g. token.pos_ == 'ADV', only for adverb calculations)."
   ]
  },
  {
   "cell_type": "code",
   "execution_count": 5,
   "metadata": {},
   "outputs": [],
   "source": [
    "def showpostags(path):\n",
    "    tsvin = open(path, \"rt\",encoding='utf-8')\n",
    "    tsvin = csv.reader(tsvin, delimiter=';')\n",
    "    cont=0\n",
    "    for row in tsvin:\n",
    "        sentence = row[0]  # oracion\n",
    "        spacyoracion=nlp(sentence)\n",
    "        for j,token in enumerate(spacyoracion):\n",
    "            print(token.pos_+\" \"+token.orth_)\n",
    "        break\n",
    "        \n",
    "def getmultiwords(path):\n",
    "    tsvin = open(path, \"rt\",encoding='utf-8')\n",
    "    tsvin = csv.reader(tsvin, delimiter=';')\n",
    "    listafinal=list()\n",
    "    for row in tsvin:\n",
    "        sentence = row[0]\n",
    "        listatemporal=list()\n",
    "        for element in row[1:]:\n",
    "            if element!='' and len(element.split())>1:\n",
    "                print(element)\n",
    "                listatemporal.append(element)\n",
    "        listafinal.append(listatemporal)\n",
    "    return listafinal\n",
    "\n",
    "def concatmultiwords(path,lista):\n",
    "    tsvin = open(path, \"rt\",encoding='utf-8')\n",
    "    tsvin = csv.reader(tsvin, delimiter=';')\n",
    "    listafinal=list()\n",
    "    cont=0\n",
    "    for row in tsvin:\n",
    "        sentence = row[0]\n",
    "        listatemporal=list()\n",
    "        for element in row[1:]:\n",
    "            if element!='' and len(element.split())>1 and element not in lista[cont]:\n",
    "                lista[cont].append(element)\n",
    "        cont+=1\n",
    "    return lista\n",
    "\n",
    "def getnumexamples(path):\n",
    "    tsvin = open(path, \"rt\",encoding='utf-8')\n",
    "    tsvin = csv.reader(tsvin, delimiter=';')\n",
    "    cont=0\n",
    "    for row in tsvin:\n",
    "        sentence = row[0]  # oracion\n",
    "        spacyoracion=nlp(sentence)\n",
    "        for j,token in enumerate(spacyoracion):\n",
    "            if (token.pos_=='ADV'):\n",
    "            #if (token.pos_=='NOUN' or token.pos_=='VERB' or token.pos_=='INTJ'):\n",
    "                cont+=1\n",
    "    return cont\n",
    "\n",
    "def getMatrix_train(path):\n",
    "    # abrimos el fichero\n",
    "    tsvin = open(path, \"rt\",encoding='utf-8')\n",
    "    tsvin = csv.reader(tsvin, delimiter=';')\n",
    "    indexRow = 0\n",
    "    conteo=getnumexamples(path)\n",
    "    matrix = np.empty(shape=[conteo, 1])\n",
    "    \n",
    "    for row in tsvin:\n",
    "        listapalabras=list()\n",
    "        rowlen=len(row)\n",
    "        sentence = row[0]  # oracion\n",
    "        spacyoracion=nlp(sentence)\n",
    "        #print(sentence)\n",
    "        #print(rowlen)\n",
    "        #print(row)\n",
    "        #cont=0\n",
    "        cont=0\n",
    "        for element in row:\n",
    "            if element!='':\n",
    "                listapalabras.append(element.lower())\n",
    "        listapalabras.pop(0)\n",
    "        #print(listapalabras)\n",
    "        for j,token in enumerate(spacyoracion):\n",
    "            if (token.pos_=='ADV'):\n",
    "            #if (token.pos_=='NOUN' or token.pos_=='VERB'or token.pos_=='INTJ'):\n",
    "                cont+=1\n",
    "                if token.orth_.lower() in listapalabras:\n",
    "                    matrix[indexRow] =1\n",
    "                    indexRow += 1\n",
    "                else:\n",
    "                    matrix[indexRow] = 0\n",
    "                    indexRow += 1\n",
    "        #print(cont)\n",
    "        #matrix2=np.concatenate((matrix2,matrix),axis=0)\n",
    "    return matrix\n",
    "\n",
    "def getnumexamplesmulti(path,multi):\n",
    "    tsvin = open(path, \"rt\",encoding='utf-8')\n",
    "    tsvin = csv.reader(tsvin, delimiter=';')\n",
    "    cont=0\n",
    "    for row in tsvin:\n",
    "        sentence = row[0]  # oracion\n",
    "        spacyoracion=nlp(sentence)\n",
    "        for j,token in enumerate(spacyoracion):\n",
    "            if (token.pos_=='NOUN' or token.pos_=='VERB'or token.pos_=='ADV'):\n",
    "                cont+=1\n",
    "    for row in multi:\n",
    "        for element in row:\n",
    "            cont+=1\n",
    "    return cont\n",
    "\n",
    "def getMatrix_trainmulti(path,multi):\n",
    "    # abrimos el fichero\n",
    "    tsvin = open(path, \"rt\",encoding='utf-8')\n",
    "    tsvin = csv.reader(tsvin, delimiter=';')\n",
    "    indexRow = 0\n",
    "    conteo=getnumexamplesmulti(path,multi)\n",
    "    matrix = np.empty(shape=[conteo, 1])\n",
    "    cont=0\n",
    "    for row in tsvin:\n",
    "        listapalabras=list()\n",
    "        rowlen=len(row)\n",
    "        sentence = row[0]  # oracion\n",
    "        spacyoracion=nlp(sentence)\n",
    "        for element in row:\n",
    "            if element!='':\n",
    "                listapalabras.append(element.lower())\n",
    "        listapalabras.pop(0)\n",
    "        #print(listapalabras)\n",
    "        for j,token in enumerate(spacyoracion):\n",
    "            if (token.pos_=='NOUN' or token.pos_=='VERB'or token.pos_=='ADV'):\n",
    "                if token.orth_.lower() in listapalabras:\n",
    "                    matrix[indexRow] =1\n",
    "                    indexRow += 1\n",
    "                else:\n",
    "                    matrix[indexRow] = 0\n",
    "                    indexRow += 1\n",
    "        for element in multi[cont]:\n",
    "            matrix[indexRow] =1\n",
    "            indexRow += 1\n",
    "        cont+=1\n",
    "        #matrix2=np.concatenate((matrix2,matrix),axis=0)\n",
    "    return matrix"
   ]
  },
  {
   "cell_type": "code",
   "execution_count": 36,
   "metadata": {
    "collapsed": true
   },
   "outputs": [
    {
     "name": "stdout",
     "output_type": "stream",
     "text": [
      "ADP Por\n",
      "INTJ otra\n",
      "INTJ parte\n",
      "PUNCT ,\n",
      "DET una\n",
      "NOUN iniciativa\n",
      "ADJ destacada\n",
      "ADP para\n",
      "VERB impulsar\n",
      "DET la\n",
      "NOUN accesibilidad\n",
      "ADJ electrónica\n",
      "AUX es\n",
      "DET el\n",
      "PROPN Observatorio\n",
      "ADP de\n",
      "PROPN Accesibilidad\n",
      "PROPN Web\n",
      "PUNCT ,\n",
      "ADJ dependiente\n",
      "ADP del\n",
      "PROPN Ministerio\n",
      "ADP de\n",
      "PROPN Política\n",
      "PROPN Territorial\n",
      "CCONJ y\n",
      "PROPN Función\n",
      "PROPN Pública\n",
      "PUNCT ,\n",
      "SCONJ que\n",
      "VERB tiene\n",
      "SCONJ como\n",
      "NOUN fin\n",
      "VERB mejorar\n",
      "DET el\n",
      "NOUN grado\n",
      "ADP de\n",
      "NOUN cumplimiento\n",
      "ADP en\n",
      "INTJ materia\n",
      "ADP de\n",
      "NOUN accesibilidad\n",
      "ADP de\n",
      "DET los\n",
      "NOUN portales\n",
      "ADP de\n",
      "DET la\n",
      "PROPN Administración\n",
      "PUNCT ,\n",
      "VERB proporcionando\n",
      "ADP para\n",
      "PRON ello\n",
      "NOUN asesoramiento\n",
      "CCONJ y\n",
      "DET distintas\n",
      "NOUN herramientas\n",
      "PUNCT ,\n",
      "CCONJ y\n",
      "SCONJ que\n",
      "VERB realiza\n",
      "ADV además\n",
      "DET una\n",
      "NOUN evaluación\n",
      "ADJ periódica\n",
      "ADP de\n",
      "DET la\n",
      "NOUN accesibilidad\n",
      "ADP de\n",
      "DET los\n",
      "NOUN portales\n",
      "CCONJ y\n",
      "NOUN sitios\n",
      "NOUN webs\n",
      "ADP de\n",
      "DET las\n",
      "NOUN administraciones\n",
      "ADJ públicas\n"
     ]
    }
   ],
   "source": [
    "path='AGREEMENT/Pathtoannotator1.csv'\n",
    "showpostags(path)"
   ]
  },
  {
   "cell_type": "code",
   "execution_count": 254,
   "metadata": {},
   "outputs": [],
   "source": [
    "path='AGREEMENT/Pathtoannotator1.csv'\n",
    "matrixann1=getMatrix_train(path)"
   ]
  },
  {
   "cell_type": "code",
   "execution_count": 255,
   "metadata": {},
   "outputs": [],
   "source": [
    "path='AGREEMENT/anotadores/Pathtoannotator3.csv'\n",
    "matrixann3=getMatrix_train(path)"
   ]
  },
  {
   "cell_type": "code",
   "execution_count": 256,
   "metadata": {},
   "outputs": [],
   "source": [
    "path='AGREEMENT/Pathtoannotator2.csv'\n",
    "matrixann2=getMatrix_train(path)"
   ]
  },
  {
   "cell_type": "markdown",
   "metadata": {},
   "source": [
    "#### nouns"
   ]
  },
  {
   "cell_type": "code",
   "execution_count": 182,
   "metadata": {},
   "outputs": [
    {
     "data": {
      "text/plain": [
       "0.4114298728321648"
      ]
     },
     "execution_count": 182,
     "metadata": {},
     "output_type": "execute_result"
    }
   ],
   "source": [
    "cohen_kappa_score(matrixann1,matrixann3)"
   ]
  },
  {
   "cell_type": "code",
   "execution_count": 183,
   "metadata": {},
   "outputs": [
    {
     "data": {
      "text/plain": [
       "0.4750362871246798"
      ]
     },
     "execution_count": 183,
     "metadata": {},
     "output_type": "execute_result"
    }
   ],
   "source": [
    "cohen_kappa_score(matrixann1,matrixann2)"
   ]
  },
  {
   "cell_type": "code",
   "execution_count": 184,
   "metadata": {
    "collapsed": true
   },
   "outputs": [
    {
     "data": {
      "text/plain": [
       "0.5710573806267834"
      ]
     },
     "execution_count": 184,
     "metadata": {},
     "output_type": "execute_result"
    }
   ],
   "source": [
    "cohen_kappa_score(matrixann3,matrixann2)"
   ]
  },
  {
   "cell_type": "markdown",
   "metadata": {},
   "source": [
    "#### verbs"
   ]
  },
  {
   "cell_type": "code",
   "execution_count": 248,
   "metadata": {},
   "outputs": [
    {
     "data": {
      "text/plain": [
       "0.5218150742820653"
      ]
     },
     "execution_count": 248,
     "metadata": {},
     "output_type": "execute_result"
    }
   ],
   "source": [
    "cohen_kappa_score(matrixann1,matrixann3)"
   ]
  },
  {
   "cell_type": "code",
   "execution_count": 249,
   "metadata": {},
   "outputs": [
    {
     "data": {
      "text/plain": [
       "0.4082306722727733"
      ]
     },
     "execution_count": 249,
     "metadata": {},
     "output_type": "execute_result"
    }
   ],
   "source": [
    "cohen_kappa_score(matrixann1,matrixann2)"
   ]
  },
  {
   "cell_type": "code",
   "execution_count": 250,
   "metadata": {},
   "outputs": [
    {
     "data": {
      "text/plain": [
       "0.43856292166339506"
      ]
     },
     "execution_count": 250,
     "metadata": {},
     "output_type": "execute_result"
    }
   ],
   "source": [
    "cohen_kappa_score(matrixann3,matrixann2)"
   ]
  },
  {
   "cell_type": "markdown",
   "metadata": {},
   "source": [
    "#### adverbs"
   ]
  },
  {
   "cell_type": "code",
   "execution_count": 257,
   "metadata": {},
   "outputs": [
    {
     "data": {
      "text/plain": [
       "0.19418604651162796"
      ]
     },
     "execution_count": 257,
     "metadata": {},
     "output_type": "execute_result"
    }
   ],
   "source": [
    "cohen_kappa_score(matrixann1,matrixann3)"
   ]
  },
  {
   "cell_type": "code",
   "execution_count": 258,
   "metadata": {},
   "outputs": [
    {
     "data": {
      "text/plain": [
       "0.20108695652173925"
      ]
     },
     "execution_count": 258,
     "metadata": {},
     "output_type": "execute_result"
    }
   ],
   "source": [
    "cohen_kappa_score(matrixann1,matrixann2)"
   ]
  },
  {
   "cell_type": "code",
   "execution_count": 259,
   "metadata": {},
   "outputs": [
    {
     "data": {
      "text/plain": [
       "0.46400523560209417"
      ]
     },
     "execution_count": 259,
     "metadata": {},
     "output_type": "execute_result"
    }
   ],
   "source": [
    "cohen_kappa_score(matrixann3,matrixann2)"
   ]
  },
  {
   "cell_type": "markdown",
   "metadata": {},
   "source": [
    "#### interjections"
   ]
  },
  {
   "cell_type": "code",
   "execution_count": 227,
   "metadata": {},
   "outputs": [
    {
     "data": {
      "text/plain": [
       "0.15447154471544722"
      ]
     },
     "execution_count": 227,
     "metadata": {},
     "output_type": "execute_result"
    }
   ],
   "source": [
    "cohen_kappa_score(matrixann1,matrixann3)"
   ]
  },
  {
   "cell_type": "code",
   "execution_count": 228,
   "metadata": {},
   "outputs": [
    {
     "data": {
      "text/plain": [
       "0.5001643115346697"
      ]
     },
     "execution_count": 228,
     "metadata": {},
     "output_type": "execute_result"
    }
   ],
   "source": [
    "cohen_kappa_score(matrixann1,matrixann2)"
   ]
  },
  {
   "cell_type": "code",
   "execution_count": 229,
   "metadata": {},
   "outputs": [
    {
     "data": {
      "text/plain": [
       "0.26578073089700993"
      ]
     },
     "execution_count": 229,
     "metadata": {},
     "output_type": "execute_result"
    }
   ],
   "source": [
    "cohen_kappa_score(matrixann3,matrixann2)"
   ]
  },
  {
   "cell_type": "markdown",
   "metadata": {},
   "source": [
    "#### proper noun"
   ]
  },
  {
   "cell_type": "code",
   "execution_count": 237,
   "metadata": {},
   "outputs": [
    {
     "data": {
      "text/plain": [
       "0.24409954658448718"
      ]
     },
     "execution_count": 237,
     "metadata": {},
     "output_type": "execute_result"
    }
   ],
   "source": [
    "cohen_kappa_score(matrixann1,matrixann3)"
   ]
  },
  {
   "cell_type": "code",
   "execution_count": 238,
   "metadata": {},
   "outputs": [
    {
     "data": {
      "text/plain": [
       "0.22633541702600946"
      ]
     },
     "execution_count": 238,
     "metadata": {},
     "output_type": "execute_result"
    }
   ],
   "source": [
    "cohen_kappa_score(matrixann1,matrixann2)"
   ]
  },
  {
   "cell_type": "code",
   "execution_count": 239,
   "metadata": {},
   "outputs": [
    {
     "data": {
      "text/plain": [
       "0.5338417828645119"
      ]
     },
     "execution_count": 239,
     "metadata": {},
     "output_type": "execute_result"
    }
   ],
   "source": [
    "cohen_kappa_score(matrixann3,matrixann2)"
   ]
  },
  {
   "cell_type": "markdown",
   "metadata": {},
   "source": [
    "#### nouns and verbs"
   ]
  },
  {
   "cell_type": "code",
   "execution_count": 117,
   "metadata": {},
   "outputs": [
    {
     "data": {
      "text/plain": [
       "0.43652228805144755"
      ]
     },
     "execution_count": 117,
     "metadata": {},
     "output_type": "execute_result"
    }
   ],
   "source": [
    "cohen_kappa_score(matrixann1,matrixann3)"
   ]
  },
  {
   "cell_type": "code",
   "execution_count": 118,
   "metadata": {},
   "outputs": [
    {
     "data": {
      "text/plain": [
       "0.46669707985197206"
      ]
     },
     "execution_count": 118,
     "metadata": {},
     "output_type": "execute_result"
    }
   ],
   "source": [
    "cohen_kappa_score(matrixann1,matrixann2)"
   ]
  },
  {
   "cell_type": "code",
   "execution_count": 119,
   "metadata": {},
   "outputs": [
    {
     "data": {
      "text/plain": [
       "0.5585534156962728"
      ]
     },
     "execution_count": 119,
     "metadata": {},
     "output_type": "execute_result"
    }
   ],
   "source": [
    "cohen_kappa_score(matrixann3,matrixann2)"
   ]
  },
  {
   "cell_type": "markdown",
   "metadata": {},
   "source": [
    "#### noun, verbs, adverbs"
   ]
  },
  {
   "cell_type": "code",
   "execution_count": 152,
   "metadata": {},
   "outputs": [
    {
     "data": {
      "text/plain": [
       "0.4374306614860467"
      ]
     },
     "execution_count": 152,
     "metadata": {},
     "output_type": "execute_result"
    }
   ],
   "source": [
    "cohen_kappa_score(matrixann1,matrixann3)"
   ]
  },
  {
   "cell_type": "code",
   "execution_count": 153,
   "metadata": {},
   "outputs": [
    {
     "data": {
      "text/plain": [
       "0.4628458076236375"
      ]
     },
     "execution_count": 153,
     "metadata": {},
     "output_type": "execute_result"
    }
   ],
   "source": [
    "cohen_kappa_score(matrixann1,matrixann2)"
   ]
  },
  {
   "cell_type": "code",
   "execution_count": 154,
   "metadata": {},
   "outputs": [
    {
     "data": {
      "text/plain": [
       "0.5602948931076178"
      ]
     },
     "execution_count": 154,
     "metadata": {},
     "output_type": "execute_result"
    }
   ],
   "source": [
    "cohen_kappa_score(matrixann3,matrixann2)"
   ]
  },
  {
   "cell_type": "markdown",
   "metadata": {},
   "source": [
    "#### nouns, verbs, interjections"
   ]
  },
  {
   "cell_type": "code",
   "execution_count": 108,
   "metadata": {
    "scrolled": true
   },
   "outputs": [
    {
     "data": {
      "text/plain": [
       "0.4341630063445583"
      ]
     },
     "execution_count": 108,
     "metadata": {},
     "output_type": "execute_result"
    }
   ],
   "source": [
    "cohen_kappa_score(matrixann1,matrixann3)"
   ]
  },
  {
   "cell_type": "code",
   "execution_count": 109,
   "metadata": {},
   "outputs": [
    {
     "data": {
      "text/plain": [
       "0.46899469691720097"
      ]
     },
     "execution_count": 109,
     "metadata": {},
     "output_type": "execute_result"
    }
   ],
   "source": [
    "cohen_kappa_score(matrixann1,matrixann2)"
   ]
  },
  {
   "cell_type": "code",
   "execution_count": 110,
   "metadata": {
    "scrolled": true
   },
   "outputs": [
    {
     "data": {
      "text/plain": [
       "0.5559266872216513"
      ]
     },
     "execution_count": 110,
     "metadata": {},
     "output_type": "execute_result"
    }
   ],
   "source": [
    "cohen_kappa_score(matrixann3,matrixann2)"
   ]
  },
  {
   "cell_type": "markdown",
   "metadata": {},
   "source": [
    "#### nouns, verbs, interjections, proper noun"
   ]
  },
  {
   "cell_type": "code",
   "execution_count": 96,
   "metadata": {
    "scrolled": true
   },
   "outputs": [
    {
     "data": {
      "text/plain": [
       "0.42278573097702143"
      ]
     },
     "execution_count": 96,
     "metadata": {},
     "output_type": "execute_result"
    }
   ],
   "source": [
    "cohen_kappa_score(matrixann1,matrixann3)"
   ]
  },
  {
   "cell_type": "code",
   "execution_count": 97,
   "metadata": {},
   "outputs": [
    {
     "data": {
      "text/plain": [
       "0.43296658432879864"
      ]
     },
     "execution_count": 97,
     "metadata": {},
     "output_type": "execute_result"
    }
   ],
   "source": [
    "cohen_kappa_score(matrixann1,matrixann2)"
   ]
  },
  {
   "cell_type": "code",
   "execution_count": 98,
   "metadata": {},
   "outputs": [
    {
     "data": {
      "text/plain": [
       "0.5530365931557075"
      ]
     },
     "execution_count": 98,
     "metadata": {},
     "output_type": "execute_result"
    }
   ],
   "source": [
    "cohen_kappa_score(matrixann3,matrixann2)"
   ]
  },
  {
   "cell_type": "markdown",
   "metadata": {},
   "source": [
    "#### ingresar multiwords\n",
    "To the previous results (depending on the POS tag choice), the multiword choices are concatenated and recalculated accordingly."
   ]
  },
  {
   "cell_type": "code",
   "execution_count": 243,
   "metadata": {},
   "outputs": [],
   "source": [
    "path='AGREEMENT/Pathtoannotator1.csv'\n",
    "matrixann1=getMatrix_trainmulti(path,multiwordsE_C_O)"
   ]
  },
  {
   "cell_type": "code",
   "execution_count": 168,
   "metadata": {},
   "outputs": [],
   "source": [
    "path='AGREEMENT/Pathtoannotator3.csv'\n",
    "matrixann3=getMatrix_trainmulti(path,multiwordsE_C_O)"
   ]
  },
  {
   "cell_type": "code",
   "execution_count": 169,
   "metadata": {},
   "outputs": [],
   "source": [
    "path='AGREEMENT/Pathtoannotator2.csv'\n",
    "matrixann2=getMatrix_trainmulti(path,multiwordsE_C_O)"
   ]
  },
  {
   "cell_type": "code",
   "execution_count": 170,
   "metadata": {},
   "outputs": [
    {
     "data": {
      "text/plain": [
       "0.6094551849956031"
      ]
     },
     "execution_count": 170,
     "metadata": {},
     "output_type": "execute_result"
    }
   ],
   "source": [
    "cohen_kappa_score(matrixann1,matrixann3)"
   ]
  },
  {
   "cell_type": "code",
   "execution_count": 171,
   "metadata": {},
   "outputs": [
    {
     "data": {
      "text/plain": [
       "0.6421991197189156"
      ]
     },
     "execution_count": 171,
     "metadata": {},
     "output_type": "execute_result"
    }
   ],
   "source": [
    "cohen_kappa_score(matrixann1,matrixann2)"
   ]
  },
  {
   "cell_type": "code",
   "execution_count": 172,
   "metadata": {},
   "outputs": [
    {
     "data": {
      "text/plain": [
       "0.6738796252380612"
      ]
     },
     "execution_count": 172,
     "metadata": {},
     "output_type": "execute_result"
    }
   ],
   "source": [
    "cohen_kappa_score(matrixann3,matrixann2)"
   ]
  },
  {
   "cell_type": "markdown",
   "metadata": {},
   "source": [
    "# FLEISS\n",
    "Here the Kappa Fleiss metric is calculated, the desired matrices are created according to the POS tags required, in cases where uniwords or multiwords are required."
   ]
  },
  {
   "cell_type": "code",
   "execution_count": 196,
   "metadata": {},
   "outputs": [],
   "source": [
    "#!/usr/bin/env python\n",
    "\n",
    "'''\n",
    "Created on Aug 1, 2016\n",
    "@author: skarumbaiah\n",
    "Computes Fleiss' Kappa \n",
    "Joseph L. Fleiss, Measuring Nominal Scale Agreement Among Many Raters, 1971.\n",
    "'''\n",
    "\n",
    "def checkInput(rate, n):\n",
    "    \"\"\" \n",
    "    Check correctness of the input matrix\n",
    "    @param rate - ratings matrix\n",
    "    @return n - number of raters\n",
    "    @throws AssertionError \n",
    "    \"\"\"\n",
    "    N = len(rate)\n",
    "    k = len(rate[0])\n",
    "    assert all(len(rate[i]) == k for i in range(k)), \"Row length != #categories)\"\n",
    "    assert all(isinstance(rate[i][j].item(), int) for i in range(N) for j in range(k)), \"Element not integer\" \n",
    "    assert all(sum(row) == n for row in rate), \"Sum of ratings != #raters)\"\n",
    "\n",
    "def fleissKappa(rate,n):\n",
    "    \"\"\" \n",
    "    Computes the Kappa value\n",
    "    @param rate - ratings matrix containing number of ratings for each subject per category \n",
    "    [size - N X k where N = #subjects and k = #categories]\n",
    "    @param n - number of raters   \n",
    "    @return fleiss' kappa\n",
    "    \"\"\"\n",
    "\n",
    "    N = len(rate)\n",
    "    k = len(rate[0])\n",
    "    print(\"#raters = \", n, \", #subjects = \", N, \", #categories = \", k)\n",
    "    checkInput(rate, n)\n",
    "\n",
    "    #mean of the extent to which raters agree for the ith subject \n",
    "    PA = sum([(sum([i**2 for i in row])- n) / (n * (n - 1)) for row in rate])/N\n",
    "    print(\"PA = \", PA)\n",
    "    \n",
    "    # mean of squares of proportion of all assignments which were to jth category\n",
    "    PE = sum([j**2 for j in [sum([rows[i] for rows in rate])/(N*n) for i in range(k)]])\n",
    "    print(\"PE =\", PE)\n",
    "    \n",
    "    kappa = -float(\"inf\")\n",
    "    try:\n",
    "        kappa = (PA - PE) / (1 - PE)\n",
    "        kappa = float(\"{:.3f}\".format(kappa))\n",
    "    except ZeroDivisionError:\n",
    "        print(\"Expected agreement = 1\")\n",
    "\n",
    "    print(\"Fleiss' Kappa =\", kappa)\n",
    "    \n",
    "    return kappa"
   ]
  },
  {
   "cell_type": "markdown",
   "metadata": {},
   "source": [
    "### Uniwords"
   ]
  },
  {
   "cell_type": "code",
   "execution_count": 260,
   "metadata": {},
   "outputs": [],
   "source": [
    "path='AGREEMENT/Pathtoannotator1.csv'\n",
    "conteo=getnumexamples(path)\n",
    "matrixfleiss = np.empty(shape=[conteo, 2],dtype=int)\n",
    "for i in range(len(matrixann1)):\n",
    "    valuecomplex=0\n",
    "    valuesimple=0\n",
    "    if matrixann1[i][0]==1.0:\n",
    "        valuecomplex+=1\n",
    "    else:\n",
    "        valuesimple+=1\n",
    "    if matrixann3[i][0]==1.0:\n",
    "        valuecomplex+=1\n",
    "    else:\n",
    "        valuesimple+=1\n",
    "    if matrixann2[i][0]==1.0:\n",
    "        valuecomplex+=1\n",
    "    else:\n",
    "        valuesimple+=1\n",
    "    matrixfleiss[i][0]=valuecomplex\n",
    "    matrixfleiss[i][1]=valuesimple"
   ]
  },
  {
   "cell_type": "code",
   "execution_count": 261,
   "metadata": {
    "scrolled": true
   },
   "outputs": [
    {
     "name": "stdout",
     "output_type": "stream",
     "text": [
      "#raters =  3 , #subjects =  378 , #categories =  2\n",
      "PA =  0.9329805996472661\n",
      "PE = 0.9029391363312584\n",
      "Fleiss' Kappa = 0.31\n"
     ]
    }
   ],
   "source": [
    "kappa = fleissKappa(matrixfleiss,3)"
   ]
  },
  {
   "cell_type": "markdown",
   "metadata": {},
   "source": [
    "### Agregar multiwords"
   ]
  },
  {
   "cell_type": "code",
   "execution_count": 175,
   "metadata": {},
   "outputs": [],
   "source": [
    "path='AGREEMENT/Pathtoannotator1.csv'\n",
    "conteo=getnumexamplesmulti(path,multiwordsE_C_O)\n",
    "matrixmfleiss = np.empty(shape=[conteo, 2],dtype=int)\n",
    "for i in range(len(matrixann1)):\n",
    "    valuecomplex=0\n",
    "    valuesimple=0\n",
    "    if matrixann1[i][0]==1.0:\n",
    "        valuecomplex+=1\n",
    "    else:\n",
    "        valuesimple+=1\n",
    "    if matrixann3[i][0]==1.0:\n",
    "        valuecomplex+=1\n",
    "    else:\n",
    "        valuesimple+=1\n",
    "    if matrixann2[i][0]==1.0:\n",
    "        valuecomplex+=1\n",
    "    else:\n",
    "        valuesimple+=1\n",
    "    matrixmfleiss[i][0]=valuecomplex\n",
    "    matrixmfleiss[i][1]=valuesimple"
   ]
  },
  {
   "cell_type": "code",
   "execution_count": 176,
   "metadata": {
    "scrolled": true
   },
   "outputs": [
    {
     "name": "stdout",
     "output_type": "stream",
     "text": [
      "#raters =  3 , #subjects =  4671 , #categories =  2\n",
      "PA =  0.8638407193320613\n",
      "PE = 0.6207724638398769\n",
      "Fleiss' Kappa = 0.641\n"
     ]
    }
   ],
   "source": [
    "kappa = fleissKappa(matrixmfleiss,3)"
   ]
  }
 ],
 "metadata": {
  "kernelspec": {
   "display_name": "Python 3",
   "language": "python",
   "name": "python3"
  },
  "language_info": {
   "codemirror_mode": {
    "name": "ipython",
    "version": 3
   },
   "file_extension": ".py",
   "mimetype": "text/x-python",
   "name": "python",
   "nbconvert_exporter": "python",
   "pygments_lexer": "ipython3",
   "version": "3.6.3"
  }
 },
 "nbformat": 4,
 "nbformat_minor": 2
}
